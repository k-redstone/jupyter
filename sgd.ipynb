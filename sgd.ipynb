{
 "cells": [
  {
   "cell_type": "code",
   "execution_count": 1,
   "metadata": {},
   "outputs": [],
   "source": [
    "import pandas as pd\n",
    "import numpy as np\n",
    "from sklearn.utils import shuffle\n"
   ]
  },
  {
   "cell_type": "code",
   "execution_count": 5,
   "metadata": {},
   "outputs": [
    {
     "data": {
      "text/html": [
       "<div>\n",
       "<style scoped>\n",
       "    .dataframe tbody tr th:only-of-type {\n",
       "        vertical-align: middle;\n",
       "    }\n",
       "\n",
       "    .dataframe tbody tr th {\n",
       "        vertical-align: top;\n",
       "    }\n",
       "\n",
       "    .dataframe thead th {\n",
       "        text-align: right;\n",
       "    }\n",
       "</style>\n",
       "<table border=\"1\" class=\"dataframe\">\n",
       "  <thead>\n",
       "    <tr style=\"text-align: right;\">\n",
       "      <th></th>\n",
       "      <th>user_id</th>\n",
       "      <th>item_id</th>\n",
       "      <th>rating</th>\n",
       "    </tr>\n",
       "  </thead>\n",
       "  <tbody>\n",
       "    <tr>\n",
       "      <th>0</th>\n",
       "      <td>2</td>\n",
       "      <td>40179</td>\n",
       "      <td>5.472143</td>\n",
       "    </tr>\n",
       "    <tr>\n",
       "      <th>1</th>\n",
       "      <td>2</td>\n",
       "      <td>10520</td>\n",
       "      <td>3.484524</td>\n",
       "    </tr>\n",
       "    <tr>\n",
       "      <th>2</th>\n",
       "      <td>7</td>\n",
       "      <td>6387</td>\n",
       "      <td>1.993809</td>\n",
       "    </tr>\n",
       "    <tr>\n",
       "      <th>3</th>\n",
       "      <td>7</td>\n",
       "      <td>46304</td>\n",
       "      <td>1.993809</td>\n",
       "    </tr>\n",
       "    <tr>\n",
       "      <th>4</th>\n",
       "      <td>7</td>\n",
       "      <td>46305</td>\n",
       "      <td>1.993809</td>\n",
       "    </tr>\n",
       "    <tr>\n",
       "      <th>...</th>\n",
       "      <td>...</td>\n",
       "      <td>...</td>\n",
       "      <td>...</td>\n",
       "    </tr>\n",
       "    <tr>\n",
       "      <th>31788319</th>\n",
       "      <td>1371691</td>\n",
       "      <td>104961</td>\n",
       "      <td>9.503095</td>\n",
       "    </tr>\n",
       "    <tr>\n",
       "      <th>31788320</th>\n",
       "      <td>1371691</td>\n",
       "      <td>100629</td>\n",
       "      <td>10.000000</td>\n",
       "    </tr>\n",
       "    <tr>\n",
       "      <th>31788321</th>\n",
       "      <td>1371721</td>\n",
       "      <td>104053</td>\n",
       "      <td>9.503095</td>\n",
       "    </tr>\n",
       "    <tr>\n",
       "      <th>31788322</th>\n",
       "      <td>1371747</td>\n",
       "      <td>88521</td>\n",
       "      <td>5.527857</td>\n",
       "    </tr>\n",
       "    <tr>\n",
       "      <th>31788323</th>\n",
       "      <td>1371960</td>\n",
       "      <td>101689</td>\n",
       "      <td>8.509286</td>\n",
       "    </tr>\n",
       "  </tbody>\n",
       "</table>\n",
       "<p>31788324 rows × 3 columns</p>\n",
       "</div>"
      ],
      "text/plain": [
       "          user_id  item_id     rating\n",
       "0               2    40179   5.472143\n",
       "1               2    10520   3.484524\n",
       "2               7     6387   1.993809\n",
       "3               7    46304   1.993809\n",
       "4               7    46305   1.993809\n",
       "...           ...      ...        ...\n",
       "31788319  1371691   104961   9.503095\n",
       "31788320  1371691   100629  10.000000\n",
       "31788321  1371721   104053   9.503095\n",
       "31788322  1371747    88521   5.527857\n",
       "31788323  1371960   101689   8.509286\n",
       "\n",
       "[31788324 rows x 3 columns]"
      ]
     },
     "execution_count": 5,
     "metadata": {},
     "output_type": "execute_result"
    }
   ],
   "source": [
    "df = pd.read_csv('data/df4.csv')\n",
    "rating = df.copy()\n",
    "rating.drop(['customer_id','article_id', 'count'], axis=1)\n",
    "rating = rating[['user_id', 'item_id', 'rfm']]\n",
    "rating = rating.rename(columns={'rfm':'rating'})\n",
    "rating"
   ]
  },
  {
   "cell_type": "code",
   "execution_count": 6,
   "metadata": {},
   "outputs": [],
   "source": [
    "rating.to_csv('data/sgd.csv', index=False)"
   ]
  },
  {
   "cell_type": "code",
   "execution_count": 2,
   "metadata": {},
   "outputs": [],
   "source": [
    "class MovielensData:\n",
    "    def __init__(self, data_file_path, train_percent=0.8):\n",
    "        self.data_file_path = data_file_path\n",
    "        df = pd.read_csv('data/sgd.csv')\n",
    "\n",
    "        self.n_users = df.user_id.max()\n",
    "        self.n_items = df.item_id.max()\n",
    "        print ('Number of users = ' + str(self.n_users) + ' | Number of movies = ' + str(self.n_items))\n",
    "\n",
    "        self.R = np.zeros((self.n_users+1, self.n_items+1))\n",
    "        self.T = np.zeros((self.n_users+1, self.n_items+1))\n",
    "        print(\"zeros\")\n",
    "        self.data = pd.DataFrame(df)\n",
    "        random.seed(0)\n",
    "        for line in tqdm(self.data.itertuples()):\n",
    "            if (random.random() < train_percent):\n",
    "                self.R[line[1], line[2]] = line[3]\n",
    "            else:\n",
    "                self.T[line[1], line[2]] = line[3] \n"
   ]
  },
  {
   "cell_type": "code",
   "execution_count": null,
   "metadata": {},
   "outputs": [],
   "source": [
    "import numpy as np"
   ]
  },
  {
   "cell_type": "code",
   "execution_count": 3,
   "metadata": {},
   "outputs": [
    {
     "name": "stdout",
     "output_type": "stream",
     "text": [
      "Number of users = 1371979 | Number of movies = 105539\n",
      "zeros\n"
     ]
    },
    {
     "name": "stderr",
     "output_type": "stream",
     "text": [
      "11624234it [00:44, 238162.75it/s]"
     ]
    },
    {
     "ename": "",
     "evalue": "",
     "output_type": "error",
     "traceback": [
      "\u001b[1;31mThe Kernel crashed while executing code in the the current cell or a previous cell. Please review the code in the cell(s) to identify a possible cause of the failure. Click <a href='https://aka.ms/vscodeJupyterKernelCrash'>here</a> for more info. View Jupyter <a href='command:jupyter.viewOutput'>log</a> for further details."
     ]
    },
    {
     "ename": "",
     "evalue": "",
     "output_type": "error",
     "traceback": [
      "\u001b[1;31mCanceled future for execute_request message before replies were done"
     ]
    }
   ],
   "source": [
    "# Calculate the RMSE\n",
    "def rmse(I,R,U,M):\n",
    "    return np.sqrt(np.sum((I * (R - np.dot(U,M.T)))**2)/len(R[R > 0]))\n",
    "\n",
    "class SdgMF():\n",
    "    def __init__(self, R, T, rank=20, reg=0.1, n_iter=10, learning_rate=0.001):\n",
    "        self.R = R\n",
    "        self.T = T\n",
    "        self.n_users, self.n_items = R.shape\n",
    "        self.rank = rank\n",
    "        self.reg = reg\n",
    "        self.n_iter = n_iter\n",
    "        self.learning_rate = learning_rate\n",
    "\n",
    "        self.sample_row, self.sample_col = self.R.nonzero()\n",
    "        self.n_samples = len(self.sample_row)\n",
    "\n",
    "        # Index matrix for training data\n",
    "        I = self.R.copy()\n",
    "        I[I > 0] = 1\n",
    "        I[I == 0] = 0\n",
    "\n",
    "        self.I = I\n",
    "\n",
    "        # Index matrix for test data\n",
    "        I2 = self.T.copy()\n",
    "        I2[I2 > 0] = 1\n",
    "        I2[I2 == 0] = 0\n",
    "\n",
    "        self.I2 = I2\n",
    "\n",
    "    def train(self):\n",
    "        self.user_vecs = np.random.rand(self.n_users, self.rank)\n",
    "        self.item_vecs = np.random.rand(self.n_items, self.rank)\n",
    "        \n",
    "        np.random.seed(0)\n",
    "        for iter in tqdm(range(self.n_iter)):\n",
    "            self.sdg()\n",
    "\n",
    "            train_rmse = rmse(self.I, self.R, self.user_vecs, self.item_vecs)\n",
    "            test_rmse = rmse(self.I2, self.T, self.user_vecs, self.item_vecs)\n",
    "            print(\"tran_rsme:\", train_rmse, \"test_rmse:\", test_rmse)\n",
    "    \n",
    "    def sdg(self):\n",
    "        training_indices = np.arange(self.n_samples)\n",
    "        np.random.shuffle(training_indices)\n",
    "        for idx in tqdm(training_indices):\n",
    "            u, i = self.sample_row[idx], self.sample_col[idx]\n",
    "            e = self.R[u, i] - self.user_vecs[u,:].dot(self.item_vecs[i,:].T)\n",
    "\n",
    "            self.user_vecs[u, :] += self.learning_rate * \\\n",
    "                    (e*self.item_vecs[i,:]- self.reg*self.user_vecs[u,:]) \n",
    "            self.item_vecs[i, :] += self.learning_rate * \\\n",
    "                    (e*self.user_vecs[u,:]- self.reg*self.item_vecs[i,:])\n",
    "\n",
    "\n",
    "if __name__ == \"__main__\":\n",
    "    md = MovielensData('data/sgd.csv')\n",
    "    mf = SdgMF(md.R, md.T, n_iter=20, learning_rate=0.001)\n",
    "    mf.train()"
   ]
  },
  {
   "cell_type": "code",
   "execution_count": null,
   "metadata": {},
   "outputs": [],
   "source": []
  }
 ],
 "metadata": {
  "interpreter": {
   "hash": "b0fa6594d8f4cbf19f97940f81e996739fb7646882a419484c72d19e05852a7e"
  },
  "kernelspec": {
   "display_name": "Python 3.9.12 64-bit",
   "language": "python",
   "name": "python3"
  },
  "language_info": {
   "codemirror_mode": {
    "name": "ipython",
    "version": 3
   },
   "file_extension": ".py",
   "mimetype": "text/x-python",
   "name": "python",
   "nbconvert_exporter": "python",
   "pygments_lexer": "ipython3",
   "version": "3.9.12"
  },
  "orig_nbformat": 4
 },
 "nbformat": 4,
 "nbformat_minor": 2
}
