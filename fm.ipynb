{
 "cells": [
  {
   "cell_type": "code",
   "execution_count": 3,
   "metadata": {},
   "outputs": [
    {
     "ename": "ModuleNotFoundError",
     "evalue": "No module named 'xlearn'",
     "output_type": "error",
     "traceback": [
      "\u001b[0;31m---------------------------------------------------------------------------\u001b[0m",
      "\u001b[0;31mModuleNotFoundError\u001b[0m                       Traceback (most recent call last)",
      "\u001b[1;32m/Users/redstone/Desktop/vsc/jupyter/fm.ipynb Cell 1'\u001b[0m in \u001b[0;36m<cell line: 5>\u001b[0;34m()\u001b[0m\n\u001b[1;32m      <a href='vscode-notebook-cell:/Users/redstone/Desktop/vsc/jupyter/fm.ipynb#ch0000003?line=2'>3</a>\u001b[0m \u001b[39mfrom\u001b[39;00m \u001b[39mtqdm\u001b[39;00m \u001b[39mimport\u001b[39;00m tqdm\n\u001b[1;32m      <a href='vscode-notebook-cell:/Users/redstone/Desktop/vsc/jupyter/fm.ipynb#ch0000003?line=3'>4</a>\u001b[0m \u001b[39mfrom\u001b[39;00m \u001b[39mscipy\u001b[39;00m\u001b[39m.\u001b[39;00m\u001b[39msparse\u001b[39;00m \u001b[39mimport\u001b[39;00m coo_matrix\n\u001b[0;32m----> <a href='vscode-notebook-cell:/Users/redstone/Desktop/vsc/jupyter/fm.ipynb#ch0000003?line=4'>5</a>\u001b[0m \u001b[39mimport\u001b[39;00m \u001b[39mxlearn\u001b[39;00m \u001b[39mas\u001b[39;00m \u001b[39mxl\u001b[39;00m\n",
      "\u001b[0;31mModuleNotFoundError\u001b[0m: No module named 'xlearn'"
     ]
    }
   ],
   "source": [
    "import numpy as np\n",
    "import pandas as pd\n",
    "from tqdm import tqdm\n",
    "from scipy.sparse import coo_matrix\n",
    "import xlearn as xl"
   ]
  },
  {
   "cell_type": "code",
   "execution_count": null,
   "metadata": {},
   "outputs": [],
   "source": []
  },
  {
   "cell_type": "code",
   "execution_count": null,
   "metadata": {},
   "outputs": [],
   "source": []
  },
  {
   "cell_type": "code",
   "execution_count": 2,
   "metadata": {},
   "outputs": [
    {
     "ename": "FileNotFoundError",
     "evalue": "[Errno 2] No such file or directory: 'libsvm_data.txt'",
     "output_type": "error",
     "traceback": [
      "\u001b[0;31m---------------------------------------------------------------------------\u001b[0m",
      "\u001b[0;31mFileNotFoundError\u001b[0m                         Traceback (most recent call last)",
      "\u001b[1;32m/Users/redstone/Desktop/vsc/jupyter/fm.ipynb Cell 4'\u001b[0m in \u001b[0;36m<cell line: 4>\u001b[0;34m()\u001b[0m\n\u001b[1;32m      <a href='vscode-notebook-cell:/Users/redstone/Desktop/vsc/jupyter/fm.ipynb#ch0000000?line=0'>1</a>\u001b[0m \u001b[39m##  libsvm  dataframe\u001b[39;00m\n\u001b[1;32m      <a href='vscode-notebook-cell:/Users/redstone/Desktop/vsc/jupyter/fm.ipynb#ch0000000?line=1'>2</a>\u001b[0m \u001b[39mfrom\u001b[39;00m \u001b[39msklearn\u001b[39;00m\u001b[39m.\u001b[39;00m\u001b[39mdatasets\u001b[39;00m \u001b[39mimport\u001b[39;00m load_svmlight_file\n\u001b[0;32m----> <a href='vscode-notebook-cell:/Users/redstone/Desktop/vsc/jupyter/fm.ipynb#ch0000000?line=3'>4</a>\u001b[0m X_train, y_train \u001b[39m=\u001b[39m load_svmlight_file(\u001b[39m\"\u001b[39;49m\u001b[39mlibsvm_data.txt\u001b[39;49m\u001b[39m\"\u001b[39;49m)\n\u001b[1;32m      <a href='vscode-notebook-cell:/Users/redstone/Desktop/vsc/jupyter/fm.ipynb#ch0000000?line=4'>5</a>\u001b[0m mat \u001b[39m=\u001b[39m X_train\u001b[39m.\u001b[39mtodense() \n\u001b[1;32m      <a href='vscode-notebook-cell:/Users/redstone/Desktop/vsc/jupyter/fm.ipynb#ch0000000?line=6'>7</a>\u001b[0m df1 \u001b[39m=\u001b[39m pd\u001b[39m.\u001b[39mDataFrame(mat)\n",
      "File \u001b[0;32m/opt/homebrew/lib/python3.9/site-packages/sklearn/datasets/_svmlight_format_io.py:164\u001b[0m, in \u001b[0;36mload_svmlight_file\u001b[0;34m(f, n_features, dtype, multilabel, zero_based, query_id, offset, length)\u001b[0m\n\u001b[1;32m     <a href='file:///opt/homebrew/lib/python3.9/site-packages/sklearn/datasets/_svmlight_format_io.py?line=41'>42</a>\u001b[0m \u001b[39mdef\u001b[39;00m \u001b[39mload_svmlight_file\u001b[39m(\n\u001b[1;32m     <a href='file:///opt/homebrew/lib/python3.9/site-packages/sklearn/datasets/_svmlight_format_io.py?line=42'>43</a>\u001b[0m     f,\n\u001b[1;32m     <a href='file:///opt/homebrew/lib/python3.9/site-packages/sklearn/datasets/_svmlight_format_io.py?line=43'>44</a>\u001b[0m     \u001b[39m*\u001b[39m,\n\u001b[0;32m   (...)\u001b[0m\n\u001b[1;32m     <a href='file:///opt/homebrew/lib/python3.9/site-packages/sklearn/datasets/_svmlight_format_io.py?line=50'>51</a>\u001b[0m     length\u001b[39m=\u001b[39m\u001b[39m-\u001b[39m\u001b[39m1\u001b[39m,\n\u001b[1;32m     <a href='file:///opt/homebrew/lib/python3.9/site-packages/sklearn/datasets/_svmlight_format_io.py?line=51'>52</a>\u001b[0m ):\n\u001b[1;32m     <a href='file:///opt/homebrew/lib/python3.9/site-packages/sklearn/datasets/_svmlight_format_io.py?line=52'>53</a>\u001b[0m     \u001b[39m\"\"\"Load datasets in the svmlight / libsvm format into sparse CSR matrix\u001b[39;00m\n\u001b[1;32m     <a href='file:///opt/homebrew/lib/python3.9/site-packages/sklearn/datasets/_svmlight_format_io.py?line=53'>54</a>\u001b[0m \n\u001b[1;32m     <a href='file:///opt/homebrew/lib/python3.9/site-packages/sklearn/datasets/_svmlight_format_io.py?line=54'>55</a>\u001b[0m \u001b[39m    This format is a text-based format, with one sample per line. It does\u001b[39;00m\n\u001b[0;32m   (...)\u001b[0m\n\u001b[1;32m    <a href='file:///opt/homebrew/lib/python3.9/site-packages/sklearn/datasets/_svmlight_format_io.py?line=160'>161</a>\u001b[0m \u001b[39m        X, y = get_data()\u001b[39;00m\n\u001b[1;32m    <a href='file:///opt/homebrew/lib/python3.9/site-packages/sklearn/datasets/_svmlight_format_io.py?line=161'>162</a>\u001b[0m \u001b[39m    \"\"\"\u001b[39;00m\n\u001b[1;32m    <a href='file:///opt/homebrew/lib/python3.9/site-packages/sklearn/datasets/_svmlight_format_io.py?line=162'>163</a>\u001b[0m     \u001b[39mreturn\u001b[39;00m \u001b[39mtuple\u001b[39m(\n\u001b[0;32m--> <a href='file:///opt/homebrew/lib/python3.9/site-packages/sklearn/datasets/_svmlight_format_io.py?line=163'>164</a>\u001b[0m         load_svmlight_files(\n\u001b[1;32m    <a href='file:///opt/homebrew/lib/python3.9/site-packages/sklearn/datasets/_svmlight_format_io.py?line=164'>165</a>\u001b[0m             [f],\n\u001b[1;32m    <a href='file:///opt/homebrew/lib/python3.9/site-packages/sklearn/datasets/_svmlight_format_io.py?line=165'>166</a>\u001b[0m             n_features\u001b[39m=\u001b[39;49mn_features,\n\u001b[1;32m    <a href='file:///opt/homebrew/lib/python3.9/site-packages/sklearn/datasets/_svmlight_format_io.py?line=166'>167</a>\u001b[0m             dtype\u001b[39m=\u001b[39;49mdtype,\n\u001b[1;32m    <a href='file:///opt/homebrew/lib/python3.9/site-packages/sklearn/datasets/_svmlight_format_io.py?line=167'>168</a>\u001b[0m             multilabel\u001b[39m=\u001b[39;49mmultilabel,\n\u001b[1;32m    <a href='file:///opt/homebrew/lib/python3.9/site-packages/sklearn/datasets/_svmlight_format_io.py?line=168'>169</a>\u001b[0m             zero_based\u001b[39m=\u001b[39;49mzero_based,\n\u001b[1;32m    <a href='file:///opt/homebrew/lib/python3.9/site-packages/sklearn/datasets/_svmlight_format_io.py?line=169'>170</a>\u001b[0m             query_id\u001b[39m=\u001b[39;49mquery_id,\n\u001b[1;32m    <a href='file:///opt/homebrew/lib/python3.9/site-packages/sklearn/datasets/_svmlight_format_io.py?line=170'>171</a>\u001b[0m             offset\u001b[39m=\u001b[39;49moffset,\n\u001b[1;32m    <a href='file:///opt/homebrew/lib/python3.9/site-packages/sklearn/datasets/_svmlight_format_io.py?line=171'>172</a>\u001b[0m             length\u001b[39m=\u001b[39;49mlength,\n\u001b[1;32m    <a href='file:///opt/homebrew/lib/python3.9/site-packages/sklearn/datasets/_svmlight_format_io.py?line=172'>173</a>\u001b[0m         )\n\u001b[1;32m    <a href='file:///opt/homebrew/lib/python3.9/site-packages/sklearn/datasets/_svmlight_format_io.py?line=173'>174</a>\u001b[0m     )\n",
      "File \u001b[0;32m/opt/homebrew/lib/python3.9/site-packages/sklearn/datasets/_svmlight_format_io.py:322\u001b[0m, in \u001b[0;36mload_svmlight_files\u001b[0;34m(files, n_features, dtype, multilabel, zero_based, query_id, offset, length)\u001b[0m\n\u001b[1;32m    <a href='file:///opt/homebrew/lib/python3.9/site-packages/sklearn/datasets/_svmlight_format_io.py?line=318'>319</a>\u001b[0m \u001b[39mif\u001b[39;00m (offset \u001b[39m!=\u001b[39m \u001b[39m0\u001b[39m \u001b[39mor\u001b[39;00m length \u001b[39m>\u001b[39m \u001b[39m0\u001b[39m) \u001b[39mand\u001b[39;00m n_features \u001b[39mis\u001b[39;00m \u001b[39mNone\u001b[39;00m:\n\u001b[1;32m    <a href='file:///opt/homebrew/lib/python3.9/site-packages/sklearn/datasets/_svmlight_format_io.py?line=319'>320</a>\u001b[0m     \u001b[39mraise\u001b[39;00m \u001b[39mValueError\u001b[39;00m(\u001b[39m\"\u001b[39m\u001b[39mn_features is required when offset or length is specified.\u001b[39m\u001b[39m\"\u001b[39m)\n\u001b[0;32m--> <a href='file:///opt/homebrew/lib/python3.9/site-packages/sklearn/datasets/_svmlight_format_io.py?line=321'>322</a>\u001b[0m r \u001b[39m=\u001b[39m [\n\u001b[1;32m    <a href='file:///opt/homebrew/lib/python3.9/site-packages/sklearn/datasets/_svmlight_format_io.py?line=322'>323</a>\u001b[0m     _open_and_load(\n\u001b[1;32m    <a href='file:///opt/homebrew/lib/python3.9/site-packages/sklearn/datasets/_svmlight_format_io.py?line=323'>324</a>\u001b[0m         f,\n\u001b[1;32m    <a href='file:///opt/homebrew/lib/python3.9/site-packages/sklearn/datasets/_svmlight_format_io.py?line=324'>325</a>\u001b[0m         dtype,\n\u001b[1;32m    <a href='file:///opt/homebrew/lib/python3.9/site-packages/sklearn/datasets/_svmlight_format_io.py?line=325'>326</a>\u001b[0m         multilabel,\n\u001b[1;32m    <a href='file:///opt/homebrew/lib/python3.9/site-packages/sklearn/datasets/_svmlight_format_io.py?line=326'>327</a>\u001b[0m         \u001b[39mbool\u001b[39m(zero_based),\n\u001b[1;32m    <a href='file:///opt/homebrew/lib/python3.9/site-packages/sklearn/datasets/_svmlight_format_io.py?line=327'>328</a>\u001b[0m         \u001b[39mbool\u001b[39m(query_id),\n\u001b[1;32m    <a href='file:///opt/homebrew/lib/python3.9/site-packages/sklearn/datasets/_svmlight_format_io.py?line=328'>329</a>\u001b[0m         offset\u001b[39m=\u001b[39moffset,\n\u001b[1;32m    <a href='file:///opt/homebrew/lib/python3.9/site-packages/sklearn/datasets/_svmlight_format_io.py?line=329'>330</a>\u001b[0m         length\u001b[39m=\u001b[39mlength,\n\u001b[1;32m    <a href='file:///opt/homebrew/lib/python3.9/site-packages/sklearn/datasets/_svmlight_format_io.py?line=330'>331</a>\u001b[0m     )\n\u001b[1;32m    <a href='file:///opt/homebrew/lib/python3.9/site-packages/sklearn/datasets/_svmlight_format_io.py?line=331'>332</a>\u001b[0m     \u001b[39mfor\u001b[39;00m f \u001b[39min\u001b[39;00m files\n\u001b[1;32m    <a href='file:///opt/homebrew/lib/python3.9/site-packages/sklearn/datasets/_svmlight_format_io.py?line=332'>333</a>\u001b[0m ]\n\u001b[1;32m    <a href='file:///opt/homebrew/lib/python3.9/site-packages/sklearn/datasets/_svmlight_format_io.py?line=334'>335</a>\u001b[0m \u001b[39mif\u001b[39;00m (\n\u001b[1;32m    <a href='file:///opt/homebrew/lib/python3.9/site-packages/sklearn/datasets/_svmlight_format_io.py?line=335'>336</a>\u001b[0m     zero_based \u001b[39mis\u001b[39;00m \u001b[39mFalse\u001b[39;00m\n\u001b[1;32m    <a href='file:///opt/homebrew/lib/python3.9/site-packages/sklearn/datasets/_svmlight_format_io.py?line=336'>337</a>\u001b[0m     \u001b[39mor\u001b[39;00m zero_based \u001b[39m==\u001b[39m \u001b[39m\"\u001b[39m\u001b[39mauto\u001b[39m\u001b[39m\"\u001b[39m\n\u001b[1;32m    <a href='file:///opt/homebrew/lib/python3.9/site-packages/sklearn/datasets/_svmlight_format_io.py?line=337'>338</a>\u001b[0m     \u001b[39mand\u001b[39;00m \u001b[39mall\u001b[39m(\u001b[39mlen\u001b[39m(tmp[\u001b[39m1\u001b[39m]) \u001b[39mand\u001b[39;00m np\u001b[39m.\u001b[39mmin(tmp[\u001b[39m1\u001b[39m]) \u001b[39m>\u001b[39m \u001b[39m0\u001b[39m \u001b[39mfor\u001b[39;00m tmp \u001b[39min\u001b[39;00m r)\n\u001b[1;32m    <a href='file:///opt/homebrew/lib/python3.9/site-packages/sklearn/datasets/_svmlight_format_io.py?line=338'>339</a>\u001b[0m ):\n\u001b[1;32m    <a href='file:///opt/homebrew/lib/python3.9/site-packages/sklearn/datasets/_svmlight_format_io.py?line=339'>340</a>\u001b[0m     \u001b[39mfor\u001b[39;00m _, indices, _, _, _ \u001b[39min\u001b[39;00m r:\n",
      "File \u001b[0;32m/opt/homebrew/lib/python3.9/site-packages/sklearn/datasets/_svmlight_format_io.py:323\u001b[0m, in \u001b[0;36m<listcomp>\u001b[0;34m(.0)\u001b[0m\n\u001b[1;32m    <a href='file:///opt/homebrew/lib/python3.9/site-packages/sklearn/datasets/_svmlight_format_io.py?line=318'>319</a>\u001b[0m \u001b[39mif\u001b[39;00m (offset \u001b[39m!=\u001b[39m \u001b[39m0\u001b[39m \u001b[39mor\u001b[39;00m length \u001b[39m>\u001b[39m \u001b[39m0\u001b[39m) \u001b[39mand\u001b[39;00m n_features \u001b[39mis\u001b[39;00m \u001b[39mNone\u001b[39;00m:\n\u001b[1;32m    <a href='file:///opt/homebrew/lib/python3.9/site-packages/sklearn/datasets/_svmlight_format_io.py?line=319'>320</a>\u001b[0m     \u001b[39mraise\u001b[39;00m \u001b[39mValueError\u001b[39;00m(\u001b[39m\"\u001b[39m\u001b[39mn_features is required when offset or length is specified.\u001b[39m\u001b[39m\"\u001b[39m)\n\u001b[1;32m    <a href='file:///opt/homebrew/lib/python3.9/site-packages/sklearn/datasets/_svmlight_format_io.py?line=321'>322</a>\u001b[0m r \u001b[39m=\u001b[39m [\n\u001b[0;32m--> <a href='file:///opt/homebrew/lib/python3.9/site-packages/sklearn/datasets/_svmlight_format_io.py?line=322'>323</a>\u001b[0m     _open_and_load(\n\u001b[1;32m    <a href='file:///opt/homebrew/lib/python3.9/site-packages/sklearn/datasets/_svmlight_format_io.py?line=323'>324</a>\u001b[0m         f,\n\u001b[1;32m    <a href='file:///opt/homebrew/lib/python3.9/site-packages/sklearn/datasets/_svmlight_format_io.py?line=324'>325</a>\u001b[0m         dtype,\n\u001b[1;32m    <a href='file:///opt/homebrew/lib/python3.9/site-packages/sklearn/datasets/_svmlight_format_io.py?line=325'>326</a>\u001b[0m         multilabel,\n\u001b[1;32m    <a href='file:///opt/homebrew/lib/python3.9/site-packages/sklearn/datasets/_svmlight_format_io.py?line=326'>327</a>\u001b[0m         \u001b[39mbool\u001b[39;49m(zero_based),\n\u001b[1;32m    <a href='file:///opt/homebrew/lib/python3.9/site-packages/sklearn/datasets/_svmlight_format_io.py?line=327'>328</a>\u001b[0m         \u001b[39mbool\u001b[39;49m(query_id),\n\u001b[1;32m    <a href='file:///opt/homebrew/lib/python3.9/site-packages/sklearn/datasets/_svmlight_format_io.py?line=328'>329</a>\u001b[0m         offset\u001b[39m=\u001b[39;49moffset,\n\u001b[1;32m    <a href='file:///opt/homebrew/lib/python3.9/site-packages/sklearn/datasets/_svmlight_format_io.py?line=329'>330</a>\u001b[0m         length\u001b[39m=\u001b[39;49mlength,\n\u001b[1;32m    <a href='file:///opt/homebrew/lib/python3.9/site-packages/sklearn/datasets/_svmlight_format_io.py?line=330'>331</a>\u001b[0m     )\n\u001b[1;32m    <a href='file:///opt/homebrew/lib/python3.9/site-packages/sklearn/datasets/_svmlight_format_io.py?line=331'>332</a>\u001b[0m     \u001b[39mfor\u001b[39;00m f \u001b[39min\u001b[39;00m files\n\u001b[1;32m    <a href='file:///opt/homebrew/lib/python3.9/site-packages/sklearn/datasets/_svmlight_format_io.py?line=332'>333</a>\u001b[0m ]\n\u001b[1;32m    <a href='file:///opt/homebrew/lib/python3.9/site-packages/sklearn/datasets/_svmlight_format_io.py?line=334'>335</a>\u001b[0m \u001b[39mif\u001b[39;00m (\n\u001b[1;32m    <a href='file:///opt/homebrew/lib/python3.9/site-packages/sklearn/datasets/_svmlight_format_io.py?line=335'>336</a>\u001b[0m     zero_based \u001b[39mis\u001b[39;00m \u001b[39mFalse\u001b[39;00m\n\u001b[1;32m    <a href='file:///opt/homebrew/lib/python3.9/site-packages/sklearn/datasets/_svmlight_format_io.py?line=336'>337</a>\u001b[0m     \u001b[39mor\u001b[39;00m zero_based \u001b[39m==\u001b[39m \u001b[39m\"\u001b[39m\u001b[39mauto\u001b[39m\u001b[39m\"\u001b[39m\n\u001b[1;32m    <a href='file:///opt/homebrew/lib/python3.9/site-packages/sklearn/datasets/_svmlight_format_io.py?line=337'>338</a>\u001b[0m     \u001b[39mand\u001b[39;00m \u001b[39mall\u001b[39m(\u001b[39mlen\u001b[39m(tmp[\u001b[39m1\u001b[39m]) \u001b[39mand\u001b[39;00m np\u001b[39m.\u001b[39mmin(tmp[\u001b[39m1\u001b[39m]) \u001b[39m>\u001b[39m \u001b[39m0\u001b[39m \u001b[39mfor\u001b[39;00m tmp \u001b[39min\u001b[39;00m r)\n\u001b[1;32m    <a href='file:///opt/homebrew/lib/python3.9/site-packages/sklearn/datasets/_svmlight_format_io.py?line=338'>339</a>\u001b[0m ):\n\u001b[1;32m    <a href='file:///opt/homebrew/lib/python3.9/site-packages/sklearn/datasets/_svmlight_format_io.py?line=339'>340</a>\u001b[0m     \u001b[39mfor\u001b[39;00m _, indices, _, _, _ \u001b[39min\u001b[39;00m r:\n",
      "File \u001b[0;32m/opt/homebrew/lib/python3.9/site-packages/sklearn/datasets/_svmlight_format_io.py:202\u001b[0m, in \u001b[0;36m_open_and_load\u001b[0;34m(f, dtype, multilabel, zero_based, query_id, offset, length)\u001b[0m\n\u001b[1;32m    <a href='file:///opt/homebrew/lib/python3.9/site-packages/sklearn/datasets/_svmlight_format_io.py?line=197'>198</a>\u001b[0m     actual_dtype, data, ind, indptr, labels, query \u001b[39m=\u001b[39m _load_svmlight_file(\n\u001b[1;32m    <a href='file:///opt/homebrew/lib/python3.9/site-packages/sklearn/datasets/_svmlight_format_io.py?line=198'>199</a>\u001b[0m         f, dtype, multilabel, zero_based, query_id, offset, length\n\u001b[1;32m    <a href='file:///opt/homebrew/lib/python3.9/site-packages/sklearn/datasets/_svmlight_format_io.py?line=199'>200</a>\u001b[0m     )\n\u001b[1;32m    <a href='file:///opt/homebrew/lib/python3.9/site-packages/sklearn/datasets/_svmlight_format_io.py?line=200'>201</a>\u001b[0m \u001b[39melse\u001b[39;00m:\n\u001b[0;32m--> <a href='file:///opt/homebrew/lib/python3.9/site-packages/sklearn/datasets/_svmlight_format_io.py?line=201'>202</a>\u001b[0m     \u001b[39mwith\u001b[39;00m closing(_gen_open(f)) \u001b[39mas\u001b[39;00m f:\n\u001b[1;32m    <a href='file:///opt/homebrew/lib/python3.9/site-packages/sklearn/datasets/_svmlight_format_io.py?line=202'>203</a>\u001b[0m         actual_dtype, data, ind, indptr, labels, query \u001b[39m=\u001b[39m _load_svmlight_file(\n\u001b[1;32m    <a href='file:///opt/homebrew/lib/python3.9/site-packages/sklearn/datasets/_svmlight_format_io.py?line=203'>204</a>\u001b[0m             f, dtype, multilabel, zero_based, query_id, offset, length\n\u001b[1;32m    <a href='file:///opt/homebrew/lib/python3.9/site-packages/sklearn/datasets/_svmlight_format_io.py?line=204'>205</a>\u001b[0m         )\n\u001b[1;32m    <a href='file:///opt/homebrew/lib/python3.9/site-packages/sklearn/datasets/_svmlight_format_io.py?line=206'>207</a>\u001b[0m \u001b[39m# convert from array.array, give data the right dtype\u001b[39;00m\n",
      "File \u001b[0;32m/opt/homebrew/lib/python3.9/site-packages/sklearn/datasets/_svmlight_format_io.py:193\u001b[0m, in \u001b[0;36m_gen_open\u001b[0;34m(f)\u001b[0m\n\u001b[1;32m    <a href='file:///opt/homebrew/lib/python3.9/site-packages/sklearn/datasets/_svmlight_format_io.py?line=190'>191</a>\u001b[0m     \u001b[39mreturn\u001b[39;00m BZ2File(f, \u001b[39m\"\u001b[39m\u001b[39mrb\u001b[39m\u001b[39m\"\u001b[39m)\n\u001b[1;32m    <a href='file:///opt/homebrew/lib/python3.9/site-packages/sklearn/datasets/_svmlight_format_io.py?line=191'>192</a>\u001b[0m \u001b[39melse\u001b[39;00m:\n\u001b[0;32m--> <a href='file:///opt/homebrew/lib/python3.9/site-packages/sklearn/datasets/_svmlight_format_io.py?line=192'>193</a>\u001b[0m     \u001b[39mreturn\u001b[39;00m \u001b[39mopen\u001b[39;49m(f, \u001b[39m\"\u001b[39;49m\u001b[39mrb\u001b[39;49m\u001b[39m\"\u001b[39;49m)\n",
      "\u001b[0;31mFileNotFoundError\u001b[0m: [Errno 2] No such file or directory: 'libsvm_data.txt'"
     ]
    }
   ],
   "source": [
    "##  libsvm  dataframe\n",
    "from sklearn.datasets import load_svmlight_file\n",
    "\n",
    "X_train, y_train = load_svmlight_file(\"libsvm_data.txt\")\n",
    "mat = X_train.todense() \n",
    "\n",
    "df1 = pd.DataFrame(mat)\n",
    "df1.columns = ['sepal_length',  'sepal_width',  'petal_length',  'petal_width']\n",
    "\n",
    "df2 = pd.DataFrame(y_train)\n",
    "df2.columns = ['target']\n",
    "\n",
    "df = pd.concat([df2, df1], axis=1)      #     target\n",
    "df.to_csv(\"df_data.txt\", index=False)"
   ]
  },
  {
   "cell_type": "code",
   "execution_count": null,
   "metadata": {},
   "outputs": [],
   "source": []
  }
 ],
 "metadata": {
  "interpreter": {
   "hash": "b0fa6594d8f4cbf19f97940f81e996739fb7646882a419484c72d19e05852a7e"
  },
  "kernelspec": {
   "display_name": "Python 3.9.10 64-bit",
   "language": "python",
   "name": "python3"
  },
  "language_info": {
   "codemirror_mode": {
    "name": "ipython",
    "version": 3
   },
   "file_extension": ".py",
   "mimetype": "text/x-python",
   "name": "python",
   "nbconvert_exporter": "python",
   "pygments_lexer": "ipython3",
   "version": "3.9.10"
  },
  "orig_nbformat": 4
 },
 "nbformat": 4,
 "nbformat_minor": 2
}
