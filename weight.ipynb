{
 "cells": [
  {
   "cell_type": "code",
   "execution_count": 1,
   "metadata": {},
   "outputs": [],
   "source": [
    "import pandas as pd\n",
    "import numpy as np\n",
    "from tqdm import tqdm\n",
    "from sklearn.preprocessing import MinMaxScaler\n",
    "from sklearn.cluster import KMeans\n",
    "import matplotlib.pyplot as plt"
   ]
  },
  {
   "cell_type": "code",
   "execution_count": 2,
   "metadata": {},
   "outputs": [],
   "source": [
    "rfm = pd.read_csv('data/result.csv')"
   ]
  },
  {
   "cell_type": "code",
   "execution_count": 3,
   "metadata": {},
   "outputs": [
    {
     "data": {
      "text/html": [
       "<div>\n",
       "<style scoped>\n",
       "    .dataframe tbody tr th:only-of-type {\n",
       "        vertical-align: middle;\n",
       "    }\n",
       "\n",
       "    .dataframe tbody tr th {\n",
       "        vertical-align: top;\n",
       "    }\n",
       "\n",
       "    .dataframe thead th {\n",
       "        text-align: right;\n",
       "    }\n",
       "</style>\n",
       "<table border=\"1\" class=\"dataframe\">\n",
       "  <thead>\n",
       "    <tr style=\"text-align: right;\">\n",
       "      <th></th>\n",
       "      <th>customer_id</th>\n",
       "      <th>article_id</th>\n",
       "      <th>price</th>\n",
       "      <th>t_dat</th>\n",
       "      <th>age</th>\n",
       "      <th>count</th>\n",
       "      <th>total</th>\n",
       "      <th>t_dat_R</th>\n",
       "      <th>count_F</th>\n",
       "      <th>total_M</th>\n",
       "      <th>Class</th>\n",
       "    </tr>\n",
       "  </thead>\n",
       "  <tbody>\n",
       "    <tr>\n",
       "      <th>0</th>\n",
       "      <td>00000dbacae5abe5e23885899a1fa44253a17956c6d1c3...</td>\n",
       "      <td>176209023.0</td>\n",
       "      <td>0.035576</td>\n",
       "      <td>8467200.0</td>\n",
       "      <td>49.0</td>\n",
       "      <td>1</td>\n",
       "      <td>0.035576</td>\n",
       "      <td>2</td>\n",
       "      <td>1</td>\n",
       "      <td>8</td>\n",
       "      <td>2</td>\n",
       "    </tr>\n",
       "    <tr>\n",
       "      <th>1</th>\n",
       "      <td>00000dbacae5abe5e23885899a1fa44253a17956c6d1c3...</td>\n",
       "      <td>568601006.0</td>\n",
       "      <td>0.050831</td>\n",
       "      <td>21340800.0</td>\n",
       "      <td>49.0</td>\n",
       "      <td>2</td>\n",
       "      <td>0.101661</td>\n",
       "      <td>4</td>\n",
       "      <td>9</td>\n",
       "      <td>10</td>\n",
       "      <td>1</td>\n",
       "    </tr>\n",
       "    <tr>\n",
       "      <th>2</th>\n",
       "      <td>00000dbacae5abe5e23885899a1fa44253a17956c6d1c3...</td>\n",
       "      <td>568601043.0</td>\n",
       "      <td>0.050831</td>\n",
       "      <td>61862400.0</td>\n",
       "      <td>49.0</td>\n",
       "      <td>1</td>\n",
       "      <td>0.050831</td>\n",
       "      <td>10</td>\n",
       "      <td>1</td>\n",
       "      <td>9</td>\n",
       "      <td>1</td>\n",
       "    </tr>\n",
       "    <tr>\n",
       "      <th>3</th>\n",
       "      <td>00000dbacae5abe5e23885899a1fa44253a17956c6d1c3...</td>\n",
       "      <td>607642008.0</td>\n",
       "      <td>0.012695</td>\n",
       "      <td>26611200.0</td>\n",
       "      <td>49.0</td>\n",
       "      <td>1</td>\n",
       "      <td>0.012695</td>\n",
       "      <td>5</td>\n",
       "      <td>1</td>\n",
       "      <td>2</td>\n",
       "      <td>5</td>\n",
       "    </tr>\n",
       "    <tr>\n",
       "      <th>4</th>\n",
       "      <td>00000dbacae5abe5e23885899a1fa44253a17956c6d1c3...</td>\n",
       "      <td>625548001.0</td>\n",
       "      <td>0.044051</td>\n",
       "      <td>8467200.0</td>\n",
       "      <td>49.0</td>\n",
       "      <td>1</td>\n",
       "      <td>0.044051</td>\n",
       "      <td>2</td>\n",
       "      <td>1</td>\n",
       "      <td>9</td>\n",
       "      <td>1</td>\n",
       "    </tr>\n",
       "  </tbody>\n",
       "</table>\n",
       "</div>"
      ],
      "text/plain": [
       "                                         customer_id   article_id     price  \\\n",
       "0  00000dbacae5abe5e23885899a1fa44253a17956c6d1c3...  176209023.0  0.035576   \n",
       "1  00000dbacae5abe5e23885899a1fa44253a17956c6d1c3...  568601006.0  0.050831   \n",
       "2  00000dbacae5abe5e23885899a1fa44253a17956c6d1c3...  568601043.0  0.050831   \n",
       "3  00000dbacae5abe5e23885899a1fa44253a17956c6d1c3...  607642008.0  0.012695   \n",
       "4  00000dbacae5abe5e23885899a1fa44253a17956c6d1c3...  625548001.0  0.044051   \n",
       "\n",
       "        t_dat   age  count     total  t_dat_R  count_F  total_M  Class  \n",
       "0   8467200.0  49.0      1  0.035576        2        1        8      2  \n",
       "1  21340800.0  49.0      2  0.101661        4        9       10      1  \n",
       "2  61862400.0  49.0      1  0.050831       10        1        9      1  \n",
       "3  26611200.0  49.0      1  0.012695        5        1        2      5  \n",
       "4   8467200.0  49.0      1  0.044051        2        1        9      1  "
      ]
     },
     "execution_count": 3,
     "metadata": {},
     "output_type": "execute_result"
    }
   ],
   "source": [
    "rfm.head(5)"
   ]
  },
  {
   "cell_type": "code",
   "execution_count": 3,
   "metadata": {},
   "outputs": [
    {
     "name": "stderr",
     "output_type": "stream",
     "text": [
      "/var/folders/0q/18zhdplj2kn8gr698kfrr_yw0000gn/T/ipykernel_10081/3913948259.py:1: FutureWarning: Passing a set as an indexer is deprecated and will raise in a future version. Use a list instead.\n",
      "  r = rfm[{'t_dat_R', 'count_F', 'total_M'}]\n"
     ]
    },
    {
     "data": {
      "text/html": [
       "<div>\n",
       "<style scoped>\n",
       "    .dataframe tbody tr th:only-of-type {\n",
       "        vertical-align: middle;\n",
       "    }\n",
       "\n",
       "    .dataframe tbody tr th {\n",
       "        vertical-align: top;\n",
       "    }\n",
       "\n",
       "    .dataframe thead th {\n",
       "        text-align: right;\n",
       "    }\n",
       "</style>\n",
       "<table border=\"1\" class=\"dataframe\">\n",
       "  <thead>\n",
       "    <tr style=\"text-align: right;\">\n",
       "      <th></th>\n",
       "      <th>total_M</th>\n",
       "      <th>t_dat_R</th>\n",
       "      <th>count_F</th>\n",
       "    </tr>\n",
       "  </thead>\n",
       "  <tbody>\n",
       "    <tr>\n",
       "      <th>0</th>\n",
       "      <td>8</td>\n",
       "      <td>2</td>\n",
       "      <td>1</td>\n",
       "    </tr>\n",
       "    <tr>\n",
       "      <th>1</th>\n",
       "      <td>10</td>\n",
       "      <td>4</td>\n",
       "      <td>9</td>\n",
       "    </tr>\n",
       "    <tr>\n",
       "      <th>2</th>\n",
       "      <td>9</td>\n",
       "      <td>10</td>\n",
       "      <td>1</td>\n",
       "    </tr>\n",
       "    <tr>\n",
       "      <th>3</th>\n",
       "      <td>2</td>\n",
       "      <td>5</td>\n",
       "      <td>1</td>\n",
       "    </tr>\n",
       "    <tr>\n",
       "      <th>4</th>\n",
       "      <td>9</td>\n",
       "      <td>2</td>\n",
       "      <td>1</td>\n",
       "    </tr>\n",
       "  </tbody>\n",
       "</table>\n",
       "</div>"
      ],
      "text/plain": [
       "   total_M  t_dat_R  count_F\n",
       "0        8        2        1\n",
       "1       10        4        9\n",
       "2        9       10        1\n",
       "3        2        5        1\n",
       "4        9        2        1"
      ]
     },
     "execution_count": 3,
     "metadata": {},
     "output_type": "execute_result"
    }
   ],
   "source": [
    "r = rfm[{'t_dat_R', 'count_F', 'total_M'}]\n",
    "r.head()"
   ]
  },
  {
   "cell_type": "code",
   "execution_count": 4,
   "metadata": {},
   "outputs": [
    {
     "data": {
      "text/html": [
       "<div>\n",
       "<style scoped>\n",
       "    .dataframe tbody tr th:only-of-type {\n",
       "        vertical-align: middle;\n",
       "    }\n",
       "\n",
       "    .dataframe tbody tr th {\n",
       "        vertical-align: top;\n",
       "    }\n",
       "\n",
       "    .dataframe thead th {\n",
       "        text-align: right;\n",
       "    }\n",
       "</style>\n",
       "<table border=\"1\" class=\"dataframe\">\n",
       "  <thead>\n",
       "    <tr style=\"text-align: right;\">\n",
       "      <th></th>\n",
       "      <th>customer_id</th>\n",
       "      <th>article_id</th>\n",
       "      <th>price</th>\n",
       "      <th>t_dat</th>\n",
       "      <th>age</th>\n",
       "      <th>count</th>\n",
       "      <th>total</th>\n",
       "      <th>t_dat_R</th>\n",
       "      <th>count_F</th>\n",
       "      <th>total_M</th>\n",
       "      <th>Class</th>\n",
       "    </tr>\n",
       "  </thead>\n",
       "  <tbody>\n",
       "    <tr>\n",
       "      <th>0</th>\n",
       "      <td>00000dbacae5abe5e23885899a1fa44253a17956c6d1c3...</td>\n",
       "      <td>176209023.0</td>\n",
       "      <td>0.035576</td>\n",
       "      <td>8467200.0</td>\n",
       "      <td>49.0</td>\n",
       "      <td>1</td>\n",
       "      <td>0.035576</td>\n",
       "      <td>0.111111</td>\n",
       "      <td>0.000000</td>\n",
       "      <td>0.777778</td>\n",
       "      <td>2</td>\n",
       "    </tr>\n",
       "    <tr>\n",
       "      <th>1</th>\n",
       "      <td>00000dbacae5abe5e23885899a1fa44253a17956c6d1c3...</td>\n",
       "      <td>568601006.0</td>\n",
       "      <td>0.050831</td>\n",
       "      <td>21340800.0</td>\n",
       "      <td>49.0</td>\n",
       "      <td>2</td>\n",
       "      <td>0.101661</td>\n",
       "      <td>0.333333</td>\n",
       "      <td>0.888889</td>\n",
       "      <td>1.000000</td>\n",
       "      <td>1</td>\n",
       "    </tr>\n",
       "    <tr>\n",
       "      <th>2</th>\n",
       "      <td>00000dbacae5abe5e23885899a1fa44253a17956c6d1c3...</td>\n",
       "      <td>568601043.0</td>\n",
       "      <td>0.050831</td>\n",
       "      <td>61862400.0</td>\n",
       "      <td>49.0</td>\n",
       "      <td>1</td>\n",
       "      <td>0.050831</td>\n",
       "      <td>1.000000</td>\n",
       "      <td>0.000000</td>\n",
       "      <td>0.888889</td>\n",
       "      <td>1</td>\n",
       "    </tr>\n",
       "    <tr>\n",
       "      <th>3</th>\n",
       "      <td>00000dbacae5abe5e23885899a1fa44253a17956c6d1c3...</td>\n",
       "      <td>607642008.0</td>\n",
       "      <td>0.012695</td>\n",
       "      <td>26611200.0</td>\n",
       "      <td>49.0</td>\n",
       "      <td>1</td>\n",
       "      <td>0.012695</td>\n",
       "      <td>0.444444</td>\n",
       "      <td>0.000000</td>\n",
       "      <td>0.111111</td>\n",
       "      <td>5</td>\n",
       "    </tr>\n",
       "    <tr>\n",
       "      <th>4</th>\n",
       "      <td>00000dbacae5abe5e23885899a1fa44253a17956c6d1c3...</td>\n",
       "      <td>625548001.0</td>\n",
       "      <td>0.044051</td>\n",
       "      <td>8467200.0</td>\n",
       "      <td>49.0</td>\n",
       "      <td>1</td>\n",
       "      <td>0.044051</td>\n",
       "      <td>0.111111</td>\n",
       "      <td>0.000000</td>\n",
       "      <td>0.888889</td>\n",
       "      <td>1</td>\n",
       "    </tr>\n",
       "  </tbody>\n",
       "</table>\n",
       "</div>"
      ],
      "text/plain": [
       "                                         customer_id   article_id     price  \\\n",
       "0  00000dbacae5abe5e23885899a1fa44253a17956c6d1c3...  176209023.0  0.035576   \n",
       "1  00000dbacae5abe5e23885899a1fa44253a17956c6d1c3...  568601006.0  0.050831   \n",
       "2  00000dbacae5abe5e23885899a1fa44253a17956c6d1c3...  568601043.0  0.050831   \n",
       "3  00000dbacae5abe5e23885899a1fa44253a17956c6d1c3...  607642008.0  0.012695   \n",
       "4  00000dbacae5abe5e23885899a1fa44253a17956c6d1c3...  625548001.0  0.044051   \n",
       "\n",
       "        t_dat   age  count     total   t_dat_R   count_F   total_M  Class  \n",
       "0   8467200.0  49.0      1  0.035576  0.111111  0.000000  0.777778      2  \n",
       "1  21340800.0  49.0      2  0.101661  0.333333  0.888889  1.000000      1  \n",
       "2  61862400.0  49.0      1  0.050831  1.000000  0.000000  0.888889      1  \n",
       "3  26611200.0  49.0      1  0.012695  0.444444  0.000000  0.111111      5  \n",
       "4   8467200.0  49.0      1  0.044051  0.111111  0.000000  0.888889      1  "
      ]
     },
     "execution_count": 4,
     "metadata": {},
     "output_type": "execute_result"
    }
   ],
   "source": [
    "list = ['t_dat_R', 'count_F', 'total_M']\n",
    "\n",
    "for c in list:\n",
    "  t = rfm[c]\n",
    "  t = t.values.reshape(-1,1)\n",
    "  scaler = MinMaxScaler()\n",
    "  df_minmax = scaler.fit_transform(t)\n",
    "  pd.DataFrame(df_minmax, columns = [c])\n",
    "  rfm[c] = df_minmax\n",
    "rfm.head()"
   ]
  },
  {
   "cell_type": "code",
   "execution_count": 5,
   "metadata": {},
   "outputs": [],
   "source": [
    "t = rfm['count_F']\n",
    "t = t.values.reshape(-1,1)\n",
    "scaler = MinMaxScaler()\n",
    "df_minmax = scaler.fit_transform(t)\n",
    "pd.DataFrame(df_minmax, columns = ['t'])\n",
    "rfm['count_F'] = df_minmax"
   ]
  },
  {
   "cell_type": "code",
   "execution_count": 6,
   "metadata": {},
   "outputs": [],
   "source": [
    "t = rfm['total_M']\n",
    "t = t.values.reshape(-1,1)\n",
    "scaler = MinMaxScaler()\n",
    "df_minmax = scaler.fit_transform(t)\n",
    "pd.DataFrame(df_minmax, columns = ['t'])\n",
    "rfm['total_M'] = df_minmax"
   ]
  },
  {
   "cell_type": "code",
   "execution_count": 7,
   "metadata": {},
   "outputs": [
    {
     "data": {
      "text/html": [
       "<div>\n",
       "<style scoped>\n",
       "    .dataframe tbody tr th:only-of-type {\n",
       "        vertical-align: middle;\n",
       "    }\n",
       "\n",
       "    .dataframe tbody tr th {\n",
       "        vertical-align: top;\n",
       "    }\n",
       "\n",
       "    .dataframe thead th {\n",
       "        text-align: right;\n",
       "    }\n",
       "</style>\n",
       "<table border=\"1\" class=\"dataframe\">\n",
       "  <thead>\n",
       "    <tr style=\"text-align: right;\">\n",
       "      <th></th>\n",
       "      <th>customer_id</th>\n",
       "      <th>article_id</th>\n",
       "      <th>price</th>\n",
       "      <th>t_dat</th>\n",
       "      <th>age</th>\n",
       "      <th>count</th>\n",
       "      <th>total</th>\n",
       "      <th>t_dat_R</th>\n",
       "      <th>count_F</th>\n",
       "      <th>total_M</th>\n",
       "      <th>Class</th>\n",
       "    </tr>\n",
       "  </thead>\n",
       "  <tbody>\n",
       "    <tr>\n",
       "      <th>0</th>\n",
       "      <td>00000dbacae5abe5e23885899a1fa44253a17956c6d1c3...</td>\n",
       "      <td>176209023.0</td>\n",
       "      <td>0.035576</td>\n",
       "      <td>8467200.0</td>\n",
       "      <td>49.0</td>\n",
       "      <td>1</td>\n",
       "      <td>0.035576</td>\n",
       "      <td>0.111111</td>\n",
       "      <td>0.000000</td>\n",
       "      <td>0.777778</td>\n",
       "      <td>2</td>\n",
       "    </tr>\n",
       "    <tr>\n",
       "      <th>1</th>\n",
       "      <td>00000dbacae5abe5e23885899a1fa44253a17956c6d1c3...</td>\n",
       "      <td>568601006.0</td>\n",
       "      <td>0.050831</td>\n",
       "      <td>21340800.0</td>\n",
       "      <td>49.0</td>\n",
       "      <td>2</td>\n",
       "      <td>0.101661</td>\n",
       "      <td>0.333333</td>\n",
       "      <td>0.888889</td>\n",
       "      <td>1.000000</td>\n",
       "      <td>1</td>\n",
       "    </tr>\n",
       "    <tr>\n",
       "      <th>2</th>\n",
       "      <td>00000dbacae5abe5e23885899a1fa44253a17956c6d1c3...</td>\n",
       "      <td>568601043.0</td>\n",
       "      <td>0.050831</td>\n",
       "      <td>61862400.0</td>\n",
       "      <td>49.0</td>\n",
       "      <td>1</td>\n",
       "      <td>0.050831</td>\n",
       "      <td>1.000000</td>\n",
       "      <td>0.000000</td>\n",
       "      <td>0.888889</td>\n",
       "      <td>1</td>\n",
       "    </tr>\n",
       "    <tr>\n",
       "      <th>3</th>\n",
       "      <td>00000dbacae5abe5e23885899a1fa44253a17956c6d1c3...</td>\n",
       "      <td>607642008.0</td>\n",
       "      <td>0.012695</td>\n",
       "      <td>26611200.0</td>\n",
       "      <td>49.0</td>\n",
       "      <td>1</td>\n",
       "      <td>0.012695</td>\n",
       "      <td>0.444444</td>\n",
       "      <td>0.000000</td>\n",
       "      <td>0.111111</td>\n",
       "      <td>5</td>\n",
       "    </tr>\n",
       "    <tr>\n",
       "      <th>4</th>\n",
       "      <td>00000dbacae5abe5e23885899a1fa44253a17956c6d1c3...</td>\n",
       "      <td>625548001.0</td>\n",
       "      <td>0.044051</td>\n",
       "      <td>8467200.0</td>\n",
       "      <td>49.0</td>\n",
       "      <td>1</td>\n",
       "      <td>0.044051</td>\n",
       "      <td>0.111111</td>\n",
       "      <td>0.000000</td>\n",
       "      <td>0.888889</td>\n",
       "      <td>1</td>\n",
       "    </tr>\n",
       "  </tbody>\n",
       "</table>\n",
       "</div>"
      ],
      "text/plain": [
       "                                         customer_id   article_id     price  \\\n",
       "0  00000dbacae5abe5e23885899a1fa44253a17956c6d1c3...  176209023.0  0.035576   \n",
       "1  00000dbacae5abe5e23885899a1fa44253a17956c6d1c3...  568601006.0  0.050831   \n",
       "2  00000dbacae5abe5e23885899a1fa44253a17956c6d1c3...  568601043.0  0.050831   \n",
       "3  00000dbacae5abe5e23885899a1fa44253a17956c6d1c3...  607642008.0  0.012695   \n",
       "4  00000dbacae5abe5e23885899a1fa44253a17956c6d1c3...  625548001.0  0.044051   \n",
       "\n",
       "        t_dat   age  count     total   t_dat_R   count_F   total_M  Class  \n",
       "0   8467200.0  49.0      1  0.035576  0.111111  0.000000  0.777778      2  \n",
       "1  21340800.0  49.0      2  0.101661  0.333333  0.888889  1.000000      1  \n",
       "2  61862400.0  49.0      1  0.050831  1.000000  0.000000  0.888889      1  \n",
       "3  26611200.0  49.0      1  0.012695  0.444444  0.000000  0.111111      5  \n",
       "4   8467200.0  49.0      1  0.044051  0.111111  0.000000  0.888889      1  "
      ]
     },
     "execution_count": 7,
     "metadata": {},
     "output_type": "execute_result"
    }
   ],
   "source": [
    "rfm.head()"
   ]
  },
  {
   "cell_type": "code",
   "execution_count": 8,
   "metadata": {},
   "outputs": [
    {
     "name": "stderr",
     "output_type": "stream",
     "text": [
      "/var/folders/0q/18zhdplj2kn8gr698kfrr_yw0000gn/T/ipykernel_10081/1526703795.py:1: FutureWarning: Passing a set as an indexer is deprecated and will raise in a future version. Use a list instead.\n",
      "  df = rfm[{'t_dat_R', 'count_F', 'total_M'}]\n",
      "100%|██████████| 9/9 [06:52<00:00, 45.78s/it]\n"
     ]
    }
   ],
   "source": [
    "df = rfm[{'t_dat_R', 'count_F', 'total_M'}]\n",
    "distortions = []\n",
    "K = range(1,10)\n",
    "for k in tqdm(K):\n",
    "    kmeanModel = KMeans(n_clusters=k)\n",
    "    kmeanModel.fit(df)\n",
    "    distortions.append(kmeanModel.inertia_)"
   ]
  },
  {
   "cell_type": "code",
   "execution_count": null,
   "metadata": {},
   "outputs": [],
   "source": [
    "# from yellowbrick.cluster import KElbowVisualizer\n",
    "\n",
    "# model = KMeans()\n",
    "# visualizer = KElbowVisualizer(model, k=(1,10))\n",
    "# visualizer.fit(df)"
   ]
  },
  {
   "cell_type": "code",
   "execution_count": 9,
   "metadata": {},
   "outputs": [
    {
     "data": {
      "image/png": "[encoded data removed]",
      "text/plain": [
       "<Figure size 1152x576 with 1 Axes>"
      ]
     },
     "metadata": {
      "needs_background": "light"
     },
     "output_type": "display_data"
    }
   ],
   "source": [
    "plt.figure(figsize=(16,8))\n",
    "plt.plot(K, distortions, 'bx-')\n",
    "plt.xlabel('k')\n",
    "plt.ylabel('Distortion')\n",
    "plt.title('The Elbow Method showing the optimal k')\n",
    "plt.show()"
   ]
  },
  {
   "cell_type": "code",
   "execution_count": 10,
   "metadata": {},
   "outputs": [
    {
     "name": "stdout",
     "output_type": "stream",
     "text": [
      "          0         1             2\n",
      "0  0.750111  0.198023 -7.566725e-13\n",
      "1  0.231506  0.791342  5.461457e-04\n",
      "2  0.820066  0.508197  9.071868e-01\n",
      "3  0.217654  0.233348  5.565588e-04\n",
      "4  0.750688  0.758261 -7.643330e-13\n",
      "[0 2 4 3 0 0 4 1 3 3]\n"
     ]
    }
   ],
   "source": [
    "clust_model = KMeans(n_clusters = 5, n_init=10)\n",
    "\n",
    "clust_model.fit(df)\n",
    "centers = clust_model.cluster_centers_ # 각 군집의 중심점 \n",
    "pred = clust_model.predict(df)\n",
    "print(pd.DataFrame(centers))\n",
    "print(pred[:10])\n",
    "\n"
   ]
  },
  {
   "cell_type": "code",
   "execution_count": 11,
   "metadata": {},
   "outputs": [
    {
     "data": {
      "text/html": [
       "<div>\n",
       "<style scoped>\n",
       "    .dataframe tbody tr th:only-of-type {\n",
       "        vertical-align: middle;\n",
       "    }\n",
       "\n",
       "    .dataframe tbody tr th {\n",
       "        vertical-align: top;\n",
       "    }\n",
       "\n",
       "    .dataframe thead th {\n",
       "        text-align: right;\n",
       "    }\n",
       "</style>\n",
       "<table border=\"1\" class=\"dataframe\">\n",
       "  <thead>\n",
       "    <tr style=\"text-align: right;\">\n",
       "      <th></th>\n",
       "      <th>total_M</th>\n",
       "      <th>t_dat_R</th>\n",
       "      <th>count_F</th>\n",
       "      <th>clust</th>\n",
       "    </tr>\n",
       "  </thead>\n",
       "  <tbody>\n",
       "    <tr>\n",
       "      <th>0</th>\n",
       "      <td>0.777778</td>\n",
       "      <td>0.111111</td>\n",
       "      <td>0.000000</td>\n",
       "      <td>0</td>\n",
       "    </tr>\n",
       "    <tr>\n",
       "      <th>1</th>\n",
       "      <td>1.000000</td>\n",
       "      <td>0.333333</td>\n",
       "      <td>0.888889</td>\n",
       "      <td>2</td>\n",
       "    </tr>\n",
       "    <tr>\n",
       "      <th>2</th>\n",
       "      <td>0.888889</td>\n",
       "      <td>1.000000</td>\n",
       "      <td>0.000000</td>\n",
       "      <td>4</td>\n",
       "    </tr>\n",
       "    <tr>\n",
       "      <th>3</th>\n",
       "      <td>0.111111</td>\n",
       "      <td>0.444444</td>\n",
       "      <td>0.000000</td>\n",
       "      <td>3</td>\n",
       "    </tr>\n",
       "    <tr>\n",
       "      <th>4</th>\n",
       "      <td>0.888889</td>\n",
       "      <td>0.111111</td>\n",
       "      <td>0.000000</td>\n",
       "      <td>0</td>\n",
       "    </tr>\n",
       "  </tbody>\n",
       "</table>\n",
       "</div>"
      ],
      "text/plain": [
       "    total_M   t_dat_R   count_F  clust\n",
       "0  0.777778  0.111111  0.000000      0\n",
       "1  1.000000  0.333333  0.888889      2\n",
       "2  0.888889  1.000000  0.000000      4\n",
       "3  0.111111  0.444444  0.000000      3\n",
       "4  0.888889  0.111111  0.000000      0"
      ]
     },
     "execution_count": 11,
     "metadata": {},
     "output_type": "execute_result"
    }
   ],
   "source": [
    "clust_df = df.copy() \n",
    "clust_df['clust'] = pred \n",
    "clust_df.head()"
   ]
  },
  {
   "cell_type": "code",
   "execution_count": 72,
   "metadata": {},
   "outputs": [
    {
     "data": {
      "text/html": [
       "<div>\n",
       "<style scoped>\n",
       "    .dataframe tbody tr th:only-of-type {\n",
       "        vertical-align: middle;\n",
       "    }\n",
       "\n",
       "    .dataframe tbody tr th {\n",
       "        vertical-align: top;\n",
       "    }\n",
       "\n",
       "    .dataframe thead th {\n",
       "        text-align: right;\n",
       "    }\n",
       "</style>\n",
       "<table border=\"1\" class=\"dataframe\">\n",
       "  <thead>\n",
       "    <tr style=\"text-align: right;\">\n",
       "      <th></th>\n",
       "      <th>count_F</th>\n",
       "      <th>total_M</th>\n",
       "      <th>t_dat_R</th>\n",
       "      <th>clust</th>\n",
       "    </tr>\n",
       "  </thead>\n",
       "  <tbody>\n",
       "    <tr>\n",
       "      <th>0</th>\n",
       "      <td>0.000000</td>\n",
       "      <td>0.777778</td>\n",
       "      <td>0.111111</td>\n",
       "      <td>4</td>\n",
       "    </tr>\n",
       "    <tr>\n",
       "      <th>1</th>\n",
       "      <td>0.888889</td>\n",
       "      <td>1.000000</td>\n",
       "      <td>0.333333</td>\n",
       "      <td>0</td>\n",
       "    </tr>\n",
       "    <tr>\n",
       "      <th>2</th>\n",
       "      <td>0.000000</td>\n",
       "      <td>0.888889</td>\n",
       "      <td>1.000000</td>\n",
       "      <td>2</td>\n",
       "    </tr>\n",
       "    <tr>\n",
       "      <th>3</th>\n",
       "      <td>0.000000</td>\n",
       "      <td>0.111111</td>\n",
       "      <td>0.444444</td>\n",
       "      <td>1</td>\n",
       "    </tr>\n",
       "    <tr>\n",
       "      <th>4</th>\n",
       "      <td>0.000000</td>\n",
       "      <td>0.888889</td>\n",
       "      <td>0.111111</td>\n",
       "      <td>4</td>\n",
       "    </tr>\n",
       "    <tr>\n",
       "      <th>...</th>\n",
       "      <td>...</td>\n",
       "      <td>...</td>\n",
       "      <td>...</td>\n",
       "      <td>...</td>\n",
       "    </tr>\n",
       "    <tr>\n",
       "      <th>95</th>\n",
       "      <td>0.000000</td>\n",
       "      <td>0.555556</td>\n",
       "      <td>0.777778</td>\n",
       "      <td>2</td>\n",
       "    </tr>\n",
       "    <tr>\n",
       "      <th>96</th>\n",
       "      <td>0.888889</td>\n",
       "      <td>1.000000</td>\n",
       "      <td>0.777778</td>\n",
       "      <td>0</td>\n",
       "    </tr>\n",
       "    <tr>\n",
       "      <th>97</th>\n",
       "      <td>0.000000</td>\n",
       "      <td>0.555556</td>\n",
       "      <td>0.333333</td>\n",
       "      <td>4</td>\n",
       "    </tr>\n",
       "    <tr>\n",
       "      <th>98</th>\n",
       "      <td>0.000000</td>\n",
       "      <td>0.555556</td>\n",
       "      <td>0.333333</td>\n",
       "      <td>4</td>\n",
       "    </tr>\n",
       "    <tr>\n",
       "      <th>99</th>\n",
       "      <td>0.888889</td>\n",
       "      <td>1.000000</td>\n",
       "      <td>0.555556</td>\n",
       "      <td>0</td>\n",
       "    </tr>\n",
       "  </tbody>\n",
       "</table>\n",
       "<p>100 rows × 4 columns</p>\n",
       "</div>"
      ],
      "text/plain": [
       "     count_F   total_M   t_dat_R  clust\n",
       "0   0.000000  0.777778  0.111111      4\n",
       "1   0.888889  1.000000  0.333333      0\n",
       "2   0.000000  0.888889  1.000000      2\n",
       "3   0.000000  0.111111  0.444444      1\n",
       "4   0.000000  0.888889  0.111111      4\n",
       "..       ...       ...       ...    ...\n",
       "95  0.000000  0.555556  0.777778      2\n",
       "96  0.888889  1.000000  0.777778      0\n",
       "97  0.000000  0.555556  0.333333      4\n",
       "98  0.000000  0.555556  0.333333      4\n",
       "99  0.888889  1.000000  0.555556      0\n",
       "\n",
       "[100 rows x 4 columns]"
      ]
     },
     "execution_count": 72,
     "metadata": {},
     "output_type": "execute_result"
    }
   ],
   "source": [
    "clust_df.head(100)"
   ]
  },
  {
   "cell_type": "code",
   "execution_count": 12,
   "metadata": {},
   "outputs": [],
   "source": [
    "one = clust_df[clust_df['clust'] == 0]\n",
    "two = clust_df[clust_df['clust'] == 1]\n",
    "three = clust_df[clust_df['clust'] == 2]\n",
    "four = clust_df[clust_df['clust'] == 3]\n",
    "five = clust_df[clust_df['clust'] == 4]"
   ]
  },
  {
   "cell_type": "code",
   "execution_count": 13,
   "metadata": {},
   "outputs": [
    {
     "name": "stdout",
     "output_type": "stream",
     "text": [
      "[0.19802291073700728, 0.7913417931923246, 0.508196566510685, 0.2333481636027817, 0.7582610758892409] [0.0, 0.0005461456901749425, 0.9071868155024313, 0.0005565587620220751, 0.0] [0.7501110531447532, 0.23150584143404973, 0.8200662425306826, 0.2176543972543739, 0.7506879112497999]\n"
     ]
    }
   ],
   "source": [
    "cv_r = [one['t_dat_R'].mean(), two['t_dat_R'].mean(),three['t_dat_R'].mean(),four['t_dat_R'].mean(),five['t_dat_R'].mean()]\n",
    "cv_f = [one['count_F'].mean(), two['count_F'].mean(),three['count_F'].mean(),four['count_F'].mean(),five['count_F'].mean()]\n",
    "cv_m = [one['total_M'].mean(), two['total_M'].mean(),three['total_M'].mean(),four['total_M'].mean(),five['total_M'].mean()]\n",
    "print(cv_r, cv_f, cv_m)"
   ]
  },
  {
   "cell_type": "code",
   "execution_count": 14,
   "metadata": {},
   "outputs": [
    {
     "name": "stdout",
     "output_type": "stream",
     "text": [
      "0.07955377502138808 0.0 0.07857487287672035\n"
     ]
    }
   ],
   "source": [
    "cv_r = min(cv_r) / sum(cv_r)\n",
    "cv_f = min(cv_f) / sum(cv_f)\n",
    "cv_m = min(cv_m) / sum(cv_m)\n",
    "print(cv_r, cv_f, cv_m)"
   ]
  },
  {
   "cell_type": "code",
   "execution_count": 15,
   "metadata": {},
   "outputs": [
    {
     "name": "stdout",
     "output_type": "stream",
     "text": [
      "0.503095271342921 0.0 0.49690472865707896\n"
     ]
    }
   ],
   "source": [
    "w1 = cv_r / (cv_m + cv_f + cv_r)\n",
    "w2 = cv_f / (cv_m + cv_f + cv_r)\n",
    "w3 = cv_m / (cv_m + cv_f + cv_r)\n",
    "print(w1, w2, w3)"
   ]
  },
  {
   "cell_type": "markdown",
   "metadata": {},
   "source": [
    "0.503095271342921 0.0 0.49690472865707896"
   ]
  },
  {
   "cell_type": "code",
   "execution_count": null,
   "metadata": {},
   "outputs": [],
   "source": []
  },
  {
   "cell_type": "code",
   "execution_count": 17,
   "metadata": {},
   "outputs": [
    {
     "data": {
      "text/html": [
       "<div>\n",
       "<style scoped>\n",
       "    .dataframe tbody tr th:only-of-type {\n",
       "        vertical-align: middle;\n",
       "    }\n",
       "\n",
       "    .dataframe tbody tr th {\n",
       "        vertical-align: top;\n",
       "    }\n",
       "\n",
       "    .dataframe thead th {\n",
       "        text-align: right;\n",
       "    }\n",
       "</style>\n",
       "<table border=\"1\" class=\"dataframe\">\n",
       "  <thead>\n",
       "    <tr style=\"text-align: right;\">\n",
       "      <th></th>\n",
       "      <th>total_M</th>\n",
       "      <th>t_dat_R</th>\n",
       "      <th>count_F</th>\n",
       "    </tr>\n",
       "  </thead>\n",
       "  <tbody>\n",
       "    <tr>\n",
       "      <th>0</th>\n",
       "      <td>0.777778</td>\n",
       "      <td>0.111111</td>\n",
       "      <td>0.000000</td>\n",
       "    </tr>\n",
       "    <tr>\n",
       "      <th>1</th>\n",
       "      <td>1.000000</td>\n",
       "      <td>0.333333</td>\n",
       "      <td>0.888889</td>\n",
       "    </tr>\n",
       "    <tr>\n",
       "      <th>2</th>\n",
       "      <td>0.888889</td>\n",
       "      <td>1.000000</td>\n",
       "      <td>0.000000</td>\n",
       "    </tr>\n",
       "    <tr>\n",
       "      <th>3</th>\n",
       "      <td>0.111111</td>\n",
       "      <td>0.444444</td>\n",
       "      <td>0.000000</td>\n",
       "    </tr>\n",
       "    <tr>\n",
       "      <th>4</th>\n",
       "      <td>0.888889</td>\n",
       "      <td>0.111111</td>\n",
       "      <td>0.000000</td>\n",
       "    </tr>\n",
       "  </tbody>\n",
       "</table>\n",
       "</div>"
      ],
      "text/plain": [
       "    total_M   t_dat_R   count_F\n",
       "0  0.777778  0.111111  0.000000\n",
       "1  1.000000  0.333333  0.888889\n",
       "2  0.888889  1.000000  0.000000\n",
       "3  0.111111  0.444444  0.000000\n",
       "4  0.888889  0.111111  0.000000"
      ]
     },
     "execution_count": 17,
     "metadata": {},
     "output_type": "execute_result"
    }
   ],
   "source": [
    "df.head()"
   ]
  },
  {
   "cell_type": "code",
   "execution_count": null,
   "metadata": {},
   "outputs": [],
   "source": [
    "import seaborn as sns\n",
    "plt.figure(figsize=(20, 6))\n",
    "X = clust_df \n",
    "plt.subplot(131) \n",
    "sns.scatterplot(x=X.iloc[:,0], y=X.iloc[:,1], data=clust_df, hue=clust_model.labels_, palette='coolwarm') \n",
    "plt.scatter(centers[:,0], centers[:,1], c='black', alpha=0.8, s=150) \n",
    "plt.subplot(132) \n",
    "sns.scatterplot(x=X.iloc[:,0], y=X.iloc[:,2], data=clust_df, hue=clust_model.labels_, palette='coolwarm') \n",
    "plt.scatter(centers[:,0], centers[:,2], c='black', alpha=0.8, s=150) \n",
    "plt.subplot(133) \n",
    "sns.scatterplot(x=X.iloc[:,0], y=X.iloc[:,3], data=clust_df, hue=clust_model.labels_, palette='coolwarm') \n",
    "plt.scatter(centers[:,0], centers[:,3], c='black', alpha=0.8, s=150) \n",
    "plt.show()\n"
   ]
  },
  {
   "cell_type": "code",
   "execution_count": 22,
   "metadata": {},
   "outputs": [
    {
     "data": {
      "text/plain": [
       "<mpl_toolkits.mplot3d.art3d.Path3DCollection at 0x14c5e3310>"
      ]
     },
     "execution_count": 22,
     "metadata": {},
     "output_type": "execute_result"
    },
    {
     "data": {
      "image/png": "[encoded data removed]",
      "text/plain": [
       "<Figure size 720x720 with 1 Axes>"
      ]
     },
     "metadata": {
      "needs_background": "light"
     },
     "output_type": "display_data"
    }
   ],
   "source": [
    "from mpl_toolkits.mplot3d import Axes3D\n",
    "\n",
    "fig = plt.figure(figsize=(10,10))\n",
    "ax = fig.add_subplot(111, projection='3d')\n",
    "\n",
    "\n",
    "x= clust_df['t_dat_R']\n",
    "y= clust_df['count_F']\n",
    "z= clust_df['total_M']\n",
    "\n",
    "\n",
    "ax.scatter(x,y,z, c=clust_df.clust,s = 20, alpha =0.5, cmap='rainbow')"
   ]
  },
  {
   "cell_type": "code",
   "execution_count": null,
   "metadata": {},
   "outputs": [],
   "source": []
  }
 ],
 "metadata": {
  "interpreter": {
   "hash": "b0fa6594d8f4cbf19f97940f81e996739fb7646882a419484c72d19e05852a7e"
  },
  "kernelspec": {
   "display_name": "Python 3.9.10 64-bit",
   "language": "python",
   "name": "python3"
  },
  "language_info": {
   "codemirror_mode": {
    "name": "ipython",
    "version": 3
   },
   "file_extension": ".py",
   "mimetype": "text/x-python",
   "name": "python",
   "nbconvert_exporter": "python",
   "pygments_lexer": "ipython3",
   "version": "3.9.12"
  },
  "orig_nbformat": 4
 },
 "nbformat": 4,
 "nbformat_minor": 2
}
