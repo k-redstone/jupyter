{
 "cells": [
  {
   "cell_type": "code",
   "execution_count": 2,
   "metadata": {},
   "outputs": [],
   "source": [
    "import numpy as np\n",
    "import pandas as pd\n",
    "from tqdm import tqdm\n",
    "# from scipy.sparse import coo_matrix\n",
    "from pyspark.ml.recommendation import ALS\n",
    "\n",
    "# import sklearn\n",
    "# import random \n",
    "\n",
    "from pyspark.ml import Pipeline\n",
    "from pyspark.ml.feature import StringIndexer, VectorAssembler, IndexToString\n",
    "from pyspark.ml.feature import QuantileDiscretizer\n",
    "from pyspark.ml.evaluation import MulticlassClassificationEvaluator\n",
    "\n"
   ]
  },
  {
   "cell_type": "code",
   "execution_count": 2,
   "metadata": {},
   "outputs": [
    {
     "name": "stderr",
     "output_type": "stream",
     "text": [
      "22/05/16 13:04:04 WARN Utils: Your hostname, RedStone-MacBookAir.local resolves to a loopback address: 127.0.0.1; using 172.30.1.38 instead (on interface en0)\n",
      "22/05/16 13:04:04 WARN Utils: Set SPARK_LOCAL_IP if you need to bind to another address\n",
      "Using Spark's default log4j profile: org/apache/spark/log4j-defaults.properties\n",
      "Setting default log level to \"WARN\".\n",
      "To adjust logging level use sc.setLogLevel(newLevel). For SparkR, use setLogLevel(newLevel).\n",
      "22/05/16 13:04:04 WARN NativeCodeLoader: Unable to load native-hadoop library for your platform... using builtin-java classes where applicable\n"
     ]
    }
   ],
   "source": [
    "from pyspark.sql import SparkSession\n",
    "\n",
    "\n",
    "MAX_MEMORY = \"5g\"\n",
    "spark = SparkSession.builder.appName(\"recommender\")\\\n",
    ".config(\"spark.executor.memory\", MAX_MEMORY)\\\n",
    ".config(\"spark.driver.memory\", MAX_MEMORY)\\\n",
    ".getOrCreate()\n",
    "\n",
    "# spark = SparkSession\\\n",
    "#         .builder\\\n",
    "#         .appName('recommender_system')\\\n",
    "#         .getOrCreate()"
   ]
  },
  {
   "cell_type": "code",
   "execution_count": 3,
   "metadata": {},
   "outputs": [],
   "source": [
    "# 데이터 불러오기\n",
    "customers = pd.read_csv(\"data/customers.csv\")\n",
    "tran = pd.read_csv(\"data/transactions_train.csv\")\n",
    "item = pd.read_csv(\"data/articles.csv\")\n",
    "rfm = pd.read_csv('data/df4.csv')"
   ]
  },
  {
   "cell_type": "code",
   "execution_count": 4,
   "metadata": {},
   "outputs": [],
   "source": [
    "df = rfm.merge(tran, on=['customer_id', 'article_id'], how='left')"
   ]
  },
  {
   "cell_type": "code",
   "execution_count": 5,
   "metadata": {},
   "outputs": [
    {
     "data": {
      "text/plain": [
       "customer_id         45945696\n",
       "article_id          45945696\n",
       "rfm                 45945696\n",
       "count               45945696\n",
       "user_id             45945696\n",
       "item_id             45945696\n",
       "t_dat               45945696\n",
       "price               45945696\n",
       "sales_channel_id    45945696\n",
       "dtype: int64"
      ]
     },
     "execution_count": 5,
     "metadata": {},
     "output_type": "execute_result"
    }
   ],
   "source": [
    "df.head()\n",
    "df.count()"
   ]
  },
  {
   "cell_type": "code",
   "execution_count": 6,
   "metadata": {},
   "outputs": [
    {
     "data": {
      "text/html": [
       "<div>\n",
       "<style scoped>\n",
       "    .dataframe tbody tr th:only-of-type {\n",
       "        vertical-align: middle;\n",
       "    }\n",
       "\n",
       "    .dataframe tbody tr th {\n",
       "        vertical-align: top;\n",
       "    }\n",
       "\n",
       "    .dataframe thead th {\n",
       "        text-align: right;\n",
       "    }\n",
       "</style>\n",
       "<table border=\"1\" class=\"dataframe\">\n",
       "  <thead>\n",
       "    <tr style=\"text-align: right;\">\n",
       "      <th></th>\n",
       "      <th>customer_id</th>\n",
       "      <th>article_id</th>\n",
       "      <th>rfm</th>\n",
       "      <th>user_id</th>\n",
       "      <th>item_id</th>\n",
       "      <th>t_dat</th>\n",
       "    </tr>\n",
       "  </thead>\n",
       "  <tbody>\n",
       "    <tr>\n",
       "      <th>0</th>\n",
       "      <td>000058a12d5b43e67d225668fa1f8d618c13dc232df0ca...</td>\n",
       "      <td>663713001.0</td>\n",
       "      <td>5.472143</td>\n",
       "      <td>2</td>\n",
       "      <td>40179</td>\n",
       "      <td>2018-09-20</td>\n",
       "    </tr>\n",
       "    <tr>\n",
       "      <th>1</th>\n",
       "      <td>000058a12d5b43e67d225668fa1f8d618c13dc232df0ca...</td>\n",
       "      <td>663713001.0</td>\n",
       "      <td>5.472143</td>\n",
       "      <td>2</td>\n",
       "      <td>40179</td>\n",
       "      <td>2018-09-24</td>\n",
       "    </tr>\n",
       "    <tr>\n",
       "      <th>2</th>\n",
       "      <td>000058a12d5b43e67d225668fa1f8d618c13dc232df0ca...</td>\n",
       "      <td>541518023.0</td>\n",
       "      <td>3.484524</td>\n",
       "      <td>2</td>\n",
       "      <td>10520</td>\n",
       "      <td>2018-09-20</td>\n",
       "    </tr>\n",
       "    <tr>\n",
       "      <th>3</th>\n",
       "      <td>00007d2de826758b65a93dd24ce629ed66842531df6699...</td>\n",
       "      <td>505221004.0</td>\n",
       "      <td>1.993809</td>\n",
       "      <td>7</td>\n",
       "      <td>6387</td>\n",
       "      <td>2018-09-20</td>\n",
       "    </tr>\n",
       "    <tr>\n",
       "      <th>4</th>\n",
       "      <td>00007d2de826758b65a93dd24ce629ed66842531df6699...</td>\n",
       "      <td>685687003.0</td>\n",
       "      <td>1.993809</td>\n",
       "      <td>7</td>\n",
       "      <td>46304</td>\n",
       "      <td>2018-09-20</td>\n",
       "    </tr>\n",
       "    <tr>\n",
       "      <th>...</th>\n",
       "      <td>...</td>\n",
       "      <td>...</td>\n",
       "      <td>...</td>\n",
       "      <td>...</td>\n",
       "      <td>...</td>\n",
       "      <td>...</td>\n",
       "    </tr>\n",
       "    <tr>\n",
       "      <th>45945691</th>\n",
       "      <td>fff2282977442e327b45d8c89afde25617d00124d0f999...</td>\n",
       "      <td>891322004.0</td>\n",
       "      <td>10.000000</td>\n",
       "      <td>1371691</td>\n",
       "      <td>100629</td>\n",
       "      <td>2020-09-18</td>\n",
       "    </tr>\n",
       "    <tr>\n",
       "      <th>45945692</th>\n",
       "      <td>fff2282977442e327b45d8c89afde25617d00124d0f999...</td>\n",
       "      <td>891322004.0</td>\n",
       "      <td>10.000000</td>\n",
       "      <td>1371691</td>\n",
       "      <td>100629</td>\n",
       "      <td>2020-09-22</td>\n",
       "    </tr>\n",
       "    <tr>\n",
       "      <th>45945693</th>\n",
       "      <td>fff380805474b287b05cb2a7507b9a013482f7dd0bce0e...</td>\n",
       "      <td>918325001.0</td>\n",
       "      <td>9.503095</td>\n",
       "      <td>1371721</td>\n",
       "      <td>104053</td>\n",
       "      <td>2020-09-22</td>\n",
       "    </tr>\n",
       "    <tr>\n",
       "      <th>45945694</th>\n",
       "      <td>fff4d3a8b1f3b60af93e78c30a7cb4cf75edaf2590d3e5...</td>\n",
       "      <td>833459002.0</td>\n",
       "      <td>5.527857</td>\n",
       "      <td>1371747</td>\n",
       "      <td>88521</td>\n",
       "      <td>2020-09-22</td>\n",
       "    </tr>\n",
       "    <tr>\n",
       "      <th>45945695</th>\n",
       "      <td>fffef3b6b73545df065b521e19f64bf6fe93bfd450ab20...</td>\n",
       "      <td>898573003.0</td>\n",
       "      <td>8.509286</td>\n",
       "      <td>1371960</td>\n",
       "      <td>101689</td>\n",
       "      <td>2020-09-22</td>\n",
       "    </tr>\n",
       "  </tbody>\n",
       "</table>\n",
       "<p>45945696 rows × 6 columns</p>\n",
       "</div>"
      ],
      "text/plain": [
       "                                                customer_id   article_id  \\\n",
       "0         000058a12d5b43e67d225668fa1f8d618c13dc232df0ca...  663713001.0   \n",
       "1         000058a12d5b43e67d225668fa1f8d618c13dc232df0ca...  663713001.0   \n",
       "2         000058a12d5b43e67d225668fa1f8d618c13dc232df0ca...  541518023.0   \n",
       "3         00007d2de826758b65a93dd24ce629ed66842531df6699...  505221004.0   \n",
       "4         00007d2de826758b65a93dd24ce629ed66842531df6699...  685687003.0   \n",
       "...                                                     ...          ...   \n",
       "45945691  fff2282977442e327b45d8c89afde25617d00124d0f999...  891322004.0   \n",
       "45945692  fff2282977442e327b45d8c89afde25617d00124d0f999...  891322004.0   \n",
       "45945693  fff380805474b287b05cb2a7507b9a013482f7dd0bce0e...  918325001.0   \n",
       "45945694  fff4d3a8b1f3b60af93e78c30a7cb4cf75edaf2590d3e5...  833459002.0   \n",
       "45945695  fffef3b6b73545df065b521e19f64bf6fe93bfd450ab20...  898573003.0   \n",
       "\n",
       "                rfm  user_id  item_id       t_dat  \n",
       "0          5.472143        2    40179  2018-09-20  \n",
       "1          5.472143        2    40179  2018-09-24  \n",
       "2          3.484524        2    10520  2018-09-20  \n",
       "3          1.993809        7     6387  2018-09-20  \n",
       "4          1.993809        7    46304  2018-09-20  \n",
       "...             ...      ...      ...         ...  \n",
       "45945691  10.000000  1371691   100629  2020-09-18  \n",
       "45945692  10.000000  1371691   100629  2020-09-22  \n",
       "45945693   9.503095  1371721   104053  2020-09-22  \n",
       "45945694   5.527857  1371747    88521  2020-09-22  \n",
       "45945695   8.509286  1371960   101689  2020-09-22  \n",
       "\n",
       "[45945696 rows x 6 columns]"
      ]
     },
     "execution_count": 6,
     "metadata": {},
     "output_type": "execute_result"
    }
   ],
   "source": [
    "df = df.drop(['price','sales_channel_id', 'count'], axis=1)\n",
    "df"
   ]
  },
  {
   "cell_type": "code",
   "execution_count": 4,
   "metadata": {},
   "outputs": [
    {
     "data": {
      "text/plain": [
       "'2018-09-20'"
      ]
     },
     "execution_count": 4,
     "metadata": {},
     "output_type": "execute_result"
    }
   ],
   "source": [
    "tran['t_dat'].min()"
   ]
  },
  {
   "cell_type": "code",
   "execution_count": 5,
   "metadata": {},
   "outputs": [
    {
     "data": {
      "text/plain": [
       "'2020-09-22'"
      ]
     },
     "execution_count": 5,
     "metadata": {},
     "output_type": "execute_result"
    }
   ],
   "source": [
    "tran['t_dat'].max()"
   ]
  },
  {
   "cell_type": "code",
   "execution_count": 7,
   "metadata": {},
   "outputs": [],
   "source": [
    "df_train = df[df['t_dat'] <= \"2020-01ㅋ-01\"]\n",
    "df_test = df[df['t_dat'] >= \"2020-01-02\"]"
   ]
  },
  {
   "cell_type": "code",
   "execution_count": 16,
   "metadata": {},
   "outputs": [
    {
     "data": {
      "text/plain": [
       "30563763"
      ]
     },
     "execution_count": 16,
     "metadata": {},
     "output_type": "execute_result"
    }
   ],
   "source": [
    "df_train[\"t_dat\"].count()"
   ]
  },
  {
   "cell_type": "code",
   "execution_count": 24,
   "metadata": {},
   "outputs": [
    {
     "name": "stdout",
     "output_type": "stream",
     "text": [
      "<class 'pandas.core.frame.DataFrame'>\n",
      "Int64Index: 15381933 entries, 15 to 45945695\n",
      "Data columns (total 6 columns):\n",
      " #   Column       Dtype  \n",
      "---  ------       -----  \n",
      " 0   customer_id  object \n",
      " 1   article_id   float64\n",
      " 2   rfm          float64\n",
      " 3   user_id      int64  \n",
      " 4   item_id      int64  \n",
      " 5   t_dat        object \n",
      "dtypes: float64(2), int64(2), object(2)\n",
      "memory usage: 821.5+ MB\n"
     ]
    }
   ],
   "source": [
    "df_test.info()"
   ]
  },
  {
   "cell_type": "code",
   "execution_count": 32,
   "metadata": {},
   "outputs": [
    {
     "data": {
      "text/html": [
       "<div>\n",
       "<style scoped>\n",
       "    .dataframe tbody tr th:only-of-type {\n",
       "        vertical-align: middle;\n",
       "    }\n",
       "\n",
       "    .dataframe tbody tr th {\n",
       "        vertical-align: top;\n",
       "    }\n",
       "\n",
       "    .dataframe thead th {\n",
       "        text-align: right;\n",
       "    }\n",
       "</style>\n",
       "<table border=\"1\" class=\"dataframe\">\n",
       "  <thead>\n",
       "    <tr style=\"text-align: right;\">\n",
       "      <th></th>\n",
       "      <th>customer_id</th>\n",
       "      <th>article_id</th>\n",
       "      <th>rfm</th>\n",
       "      <th>user_id</th>\n",
       "      <th>item_id</th>\n",
       "      <th>t_dat</th>\n",
       "    </tr>\n",
       "  </thead>\n",
       "  <tbody>\n",
       "    <tr>\n",
       "      <th>15</th>\n",
       "      <td>0008968c0d451dbc5a9968da03196fe20051965edde741...</td>\n",
       "      <td>529841001.0</td>\n",
       "      <td>8.000000</td>\n",
       "      <td>203</td>\n",
       "      <td>9116</td>\n",
       "      <td>2020-02-26</td>\n",
       "    </tr>\n",
       "    <tr>\n",
       "      <th>184</th>\n",
       "      <td>00ac5119d21281802ecd309e8c7fa0b598e0be861f21ca...</td>\n",
       "      <td>610776002.0</td>\n",
       "      <td>6.018572</td>\n",
       "      <td>3555</td>\n",
       "      <td>24837</td>\n",
       "      <td>2020-05-31</td>\n",
       "    </tr>\n",
       "    <tr>\n",
       "      <th>789</th>\n",
       "      <td>02e45757a6bc483ef7a9d086c3800bdab53ac1cb9840cf...</td>\n",
       "      <td>579541001.0</td>\n",
       "      <td>7.503095</td>\n",
       "      <td>15527</td>\n",
       "      <td>18586</td>\n",
       "      <td>2020-02-19</td>\n",
       "    </tr>\n",
       "    <tr>\n",
       "      <th>877</th>\n",
       "      <td>032bfa2ee5ed4729cb92b26f029bf391e24ffd9d820404...</td>\n",
       "      <td>658298001.0</td>\n",
       "      <td>10.000000</td>\n",
       "      <td>16939</td>\n",
       "      <td>38613</td>\n",
       "      <td>2020-07-09</td>\n",
       "    </tr>\n",
       "    <tr>\n",
       "      <th>2825</th>\n",
       "      <td>0c4bed26d668a494eb32f34c2a824a9dc21db3c1046351...</td>\n",
       "      <td>160442007.0</td>\n",
       "      <td>8.496905</td>\n",
       "      <td>65732</td>\n",
       "      <td>74</td>\n",
       "      <td>2020-04-19</td>\n",
       "    </tr>\n",
       "  </tbody>\n",
       "</table>\n",
       "</div>"
      ],
      "text/plain": [
       "                                            customer_id   article_id  \\\n",
       "15    0008968c0d451dbc5a9968da03196fe20051965edde741...  529841001.0   \n",
       "184   00ac5119d21281802ecd309e8c7fa0b598e0be861f21ca...  610776002.0   \n",
       "789   02e45757a6bc483ef7a9d086c3800bdab53ac1cb9840cf...  579541001.0   \n",
       "877   032bfa2ee5ed4729cb92b26f029bf391e24ffd9d820404...  658298001.0   \n",
       "2825  0c4bed26d668a494eb32f34c2a824a9dc21db3c1046351...  160442007.0   \n",
       "\n",
       "            rfm  user_id  item_id       t_dat  \n",
       "15     8.000000      203     9116  2020-02-26  \n",
       "184    6.018572     3555    24837  2020-05-31  \n",
       "789    7.503095    15527    18586  2020-02-19  \n",
       "877   10.000000    16939    38613  2020-07-09  \n",
       "2825   8.496905    65732       74  2020-04-19  "
      ]
     },
     "execution_count": 32,
     "metadata": {},
     "output_type": "execute_result"
    }
   ],
   "source": [
    "df_test.head()"
   ]
  },
  {
   "cell_type": "code",
   "execution_count": 9,
   "metadata": {},
   "outputs": [],
   "source": [
    "df_train.to_csv('data/train.csv', index=False)"
   ]
  },
  {
   "cell_type": "code",
   "execution_count": null,
   "metadata": {},
   "outputs": [],
   "source": [
    "# # coo 변환\n",
    "# row = df['user_id'].values\n",
    "# col = df['item_id'].values\n",
    "# data = np.ones(tran.shape[0])\n",
    "# coo_train = coo_matrix((data, (row, col)), shape=(len(ALL_USERS), len(ALL_ITEMS)))\n",
    "# coo_train"
   ]
  },
  {
   "cell_type": "code",
   "execution_count": 5,
   "metadata": {},
   "outputs": [
    {
     "name": "stderr",
     "output_type": "stream",
     "text": [
      "                                                                                \r"
     ]
    }
   ],
   "source": [
    "df_spark = spark.read.csv(\"data/train.csv\", inferSchema=True, header=True)\n",
    "# coo_train = spark.createDataFrame(coo_train)"
   ]
  },
  {
   "cell_type": "code",
   "execution_count": 108,
   "metadata": {},
   "outputs": [
    {
     "name": "stderr",
     "output_type": "stream",
     "text": [
      "                                                                                \r"
     ]
    },
    {
     "data": {
      "text/html": [
       "<div>\n",
       "<style scoped>\n",
       "    .dataframe tbody tr th:only-of-type {\n",
       "        vertical-align: middle;\n",
       "    }\n",
       "\n",
       "    .dataframe tbody tr th {\n",
       "        vertical-align: top;\n",
       "    }\n",
       "\n",
       "    .dataframe thead th {\n",
       "        text-align: right;\n",
       "    }\n",
       "</style>\n",
       "<table border=\"1\" class=\"dataframe\">\n",
       "  <thead>\n",
       "    <tr style=\"text-align: right;\">\n",
       "      <th></th>\n",
       "      <th>customer_id</th>\n",
       "      <th>article_id</th>\n",
       "      <th>rfm</th>\n",
       "      <th>user_id</th>\n",
       "      <th>item_id</th>\n",
       "      <th>t_dat</th>\n",
       "      <th>prediction</th>\n",
       "    </tr>\n",
       "  </thead>\n",
       "  <tbody>\n",
       "    <tr>\n",
       "      <th>0</th>\n",
       "      <td>0001420326c217a367048472e05395373c40a039f6fd45...</td>\n",
       "      <td>566940004.0</td>\n",
       "      <td>1.496905</td>\n",
       "      <td>28</td>\n",
       "      <td>15400</td>\n",
       "      <td>2018-11-06</td>\n",
       "      <td>2.124766</td>\n",
       "    </tr>\n",
       "    <tr>\n",
       "      <th>1</th>\n",
       "      <td>0001420326c217a367048472e05395373c40a039f6fd45...</td>\n",
       "      <td>617249011.0</td>\n",
       "      <td>5.472143</td>\n",
       "      <td>28</td>\n",
       "      <td>26497</td>\n",
       "      <td>2018-11-10</td>\n",
       "      <td>5.463881</td>\n",
       "    </tr>\n",
       "    <tr>\n",
       "      <th>2</th>\n",
       "      <td>0001420326c217a367048472e05395373c40a039f6fd45...</td>\n",
       "      <td>617249011.0</td>\n",
       "      <td>5.472143</td>\n",
       "      <td>28</td>\n",
       "      <td>26497</td>\n",
       "      <td>2018-11-13</td>\n",
       "      <td>5.463881</td>\n",
       "    </tr>\n",
       "    <tr>\n",
       "      <th>3</th>\n",
       "      <td>0001420326c217a367048472e05395373c40a039f6fd45...</td>\n",
       "      <td>638114001.0</td>\n",
       "      <td>5.472143</td>\n",
       "      <td>28</td>\n",
       "      <td>33278</td>\n",
       "      <td>2018-11-10</td>\n",
       "      <td>5.463630</td>\n",
       "    </tr>\n",
       "    <tr>\n",
       "      <th>4</th>\n",
       "      <td>0001420326c217a367048472e05395373c40a039f6fd45...</td>\n",
       "      <td>638114001.0</td>\n",
       "      <td>5.472143</td>\n",
       "      <td>28</td>\n",
       "      <td>33278</td>\n",
       "      <td>2018-11-13</td>\n",
       "      <td>5.463630</td>\n",
       "    </tr>\n",
       "  </tbody>\n",
       "</table>\n",
       "</div>"
      ],
      "text/plain": [
       "                                         customer_id   article_id       rfm  \\\n",
       "0  0001420326c217a367048472e05395373c40a039f6fd45...  566940004.0  1.496905   \n",
       "1  0001420326c217a367048472e05395373c40a039f6fd45...  617249011.0  5.472143   \n",
       "2  0001420326c217a367048472e05395373c40a039f6fd45...  617249011.0  5.472143   \n",
       "3  0001420326c217a367048472e05395373c40a039f6fd45...  638114001.0  5.472143   \n",
       "4  0001420326c217a367048472e05395373c40a039f6fd45...  638114001.0  5.472143   \n",
       "\n",
       "   user_id  item_id       t_dat  prediction  \n",
       "0       28    15400  2018-11-06    2.124766  \n",
       "1       28    26497  2018-11-10    5.463881  \n",
       "2       28    26497  2018-11-13    5.463881  \n",
       "3       28    33278  2018-11-10    5.463630  \n",
       "4       28    33278  2018-11-13    5.463630  "
      ]
     },
     "execution_count": 108,
     "metadata": {},
     "output_type": "execute_result"
    }
   ],
   "source": [
    "train, test = df_spark.randomSplit([0.75, 0.25])\n",
    "\n",
    "rec = ALS(maxIter=10,\n",
    "        regParam=0.01,\n",
    "        userCol='user_id',\n",
    "        itemCol='item_id',\n",
    "        ratingCol='rfm', # label -> predict할 때는 필요 없음!\n",
    "        nonnegative=True,\n",
    "        # implicitPrefs = True,\n",
    "        coldStartStrategy='drop')\n",
    "# ALS모델 학습 -> dataframe을 넣어주기\n",
    "rec_model = rec.fit(train)\n",
    "\n",
    "# transform을 이용해 예측 -> dataframe을 넣어주기\n",
    "pred_ratings = rec_model.transform(test)\n",
    "pred_ratings.limit(5).toPandas()"
   ]
  },
  {
   "cell_type": "code",
   "execution_count": 7,
   "metadata": {},
   "outputs": [
    {
     "name": "stderr",
     "output_type": "stream",
     "text": [
      "/opt/homebrew/lib/python3.9/site-packages/pyspark/sql/context.py:125: FutureWarning: Deprecated in 3.0.0. Use SparkSession.builder.getOrCreate() instead.\n",
      "  warnings.warn(\n"
     ]
    }
   ],
   "source": [
    "u = rec_model.recommendForAllUsers(5)"
   ]
  },
  {
   "cell_type": "code",
   "execution_count": 8,
   "metadata": {},
   "outputs": [
    {
     "name": "stderr",
     "output_type": "stream",
     "text": [
      "                                                                                \r"
     ]
    }
   ],
   "source": [
    "u = u.toPandas()"
   ]
  },
  {
   "cell_type": "code",
   "execution_count": 10,
   "metadata": {},
   "outputs": [
    {
     "name": "stdout",
     "output_type": "stream",
     "text": [
      "<class 'pandas.core.frame.DataFrame'>\n",
      "RangeIndex: 1081557 entries, 0 to 1081556\n",
      "Data columns (total 2 columns):\n",
      " #   Column           Non-Null Count    Dtype \n",
      "---  ------           --------------    ----- \n",
      " 0   user_id          1081557 non-null  int32 \n",
      " 1   recommendations  1081557 non-null  object\n",
      "dtypes: int32(1), object(1)\n",
      "memory usage: 12.4+ MB\n"
     ]
    }
   ],
   "source": []
  },
  {
   "cell_type": "code",
   "execution_count": 11,
   "metadata": {},
   "outputs": [],
   "source": [
    "u.to_csv('data/u.csv', index=False)"
   ]
  },
  {
   "cell_type": "code",
   "execution_count": 6,
   "metadata": {},
   "outputs": [],
   "source": [
    "u = pd.read_csv('data/u.csv')"
   ]
  },
  {
   "cell_type": "code",
   "execution_count": 7,
   "metadata": {},
   "outputs": [],
   "source": [
    "user = u[\"user_id\"].unique()"
   ]
  },
  {
   "cell_type": "code",
   "execution_count": 8,
   "metadata": {},
   "outputs": [
    {
     "data": {
      "text/plain": [
       "RangeIndex(start=0, stop=1081557, step=1)"
      ]
     },
     "execution_count": 8,
     "metadata": {},
     "output_type": "execute_result"
    }
   ],
   "source": [
    "u.index"
   ]
  },
  {
   "cell_type": "code",
   "execution_count": 9,
   "metadata": {},
   "outputs": [
    {
     "data": {
      "text/html": [
       "<div>\n",
       "<style scoped>\n",
       "    .dataframe tbody tr th:only-of-type {\n",
       "        vertical-align: middle;\n",
       "    }\n",
       "\n",
       "    .dataframe tbody tr th {\n",
       "        vertical-align: top;\n",
       "    }\n",
       "\n",
       "    .dataframe thead th {\n",
       "        text-align: right;\n",
       "    }\n",
       "</style>\n",
       "<table border=\"1\" class=\"dataframe\">\n",
       "  <thead>\n",
       "    <tr style=\"text-align: right;\">\n",
       "      <th></th>\n",
       "      <th>user_id</th>\n",
       "      <th>article_id</th>\n",
       "    </tr>\n",
       "  </thead>\n",
       "  <tbody>\n",
       "  </tbody>\n",
       "</table>\n",
       "</div>"
      ],
      "text/plain": [
       "Empty DataFrame\n",
       "Columns: [user_id, article_id]\n",
       "Index: []"
      ]
     },
     "execution_count": 9,
     "metadata": {},
     "output_type": "execute_result"
    }
   ],
   "source": [
    "buyItem = pd.DataFrame(columns=['user_id','article_id'])\n",
    "buyItem"
   ]
  },
  {
   "cell_type": "code",
   "execution_count": 10,
   "metadata": {},
   "outputs": [
    {
     "name": "stderr",
     "output_type": "stream",
     "text": [
      "  5%|▌         | 58203/1081557 [01:00<17:47, 958.24it/s] \n"
     ]
    },
    {
     "ename": "KeyboardInterrupt",
     "evalue": "",
     "output_type": "error",
     "traceback": [
      "\u001b[0;31m---------------------------------------------------------------------------\u001b[0m",
      "\u001b[0;31mKeyboardInterrupt\u001b[0m                         Traceback (most recent call last)",
      "\u001b[1;32m/Users/redstone/Desktop/vsc/jupyter/1year.ipynb Cell 25'\u001b[0m in \u001b[0;36m<cell line: 12>\u001b[0;34m()\u001b[0m\n\u001b[1;32m      <a href='vscode-notebook-cell:/Users/redstone/Desktop/vsc/jupyter/1year.ipynb#ch0000023?line=7'>8</a>\u001b[0m       buyItem\u001b[39m.\u001b[39mloc[i]\u001b[39m=\u001b[39m[b,a]\n\u001b[1;32m      <a href='vscode-notebook-cell:/Users/redstone/Desktop/vsc/jupyter/1year.ipynb#ch0000023?line=8'>9</a>\u001b[0m       \u001b[39m# buyItem = buyItem.append({'user_id':b, 'article_id':a}, ignore_index=True)\u001b[39;00m\n\u001b[1;32m     <a href='vscode-notebook-cell:/Users/redstone/Desktop/vsc/jupyter/1year.ipynb#ch0000023?line=9'>10</a>\u001b[0m       \u001b[39m# print(a[0][15:])\u001b[39;00m\n\u001b[0;32m---> <a href='vscode-notebook-cell:/Users/redstone/Desktop/vsc/jupyter/1year.ipynb#ch0000023?line=11'>12</a>\u001b[0m buyUser()\n\u001b[1;32m     <a href='vscode-notebook-cell:/Users/redstone/Desktop/vsc/jupyter/1year.ipynb#ch0000023?line=12'>13</a>\u001b[0m buyItem\n",
      "\u001b[1;32m/Users/redstone/Desktop/vsc/jupyter/1year.ipynb Cell 25'\u001b[0m in \u001b[0;36mbuyUser\u001b[0;34m()\u001b[0m\n\u001b[1;32m      <a href='vscode-notebook-cell:/Users/redstone/Desktop/vsc/jupyter/1year.ipynb#ch0000023?line=5'>6</a>\u001b[0m a \u001b[39m=\u001b[39m a[\u001b[39m0\u001b[39m][\u001b[39m15\u001b[39m:]\n\u001b[1;32m      <a href='vscode-notebook-cell:/Users/redstone/Desktop/vsc/jupyter/1year.ipynb#ch0000023?line=6'>7</a>\u001b[0m b\u001b[39m=\u001b[39mu[\u001b[39m'\u001b[39m\u001b[39muser_id\u001b[39m\u001b[39m'\u001b[39m][i]\n\u001b[0;32m----> <a href='vscode-notebook-cell:/Users/redstone/Desktop/vsc/jupyter/1year.ipynb#ch0000023?line=7'>8</a>\u001b[0m buyItem\u001b[39m.\u001b[39mloc[i]\u001b[39m=\u001b[39m[b,a]\n",
      "File \u001b[0;32m/opt/homebrew/lib/python3.9/site-packages/pandas/core/indexing.py:716\u001b[0m, in \u001b[0;36m_LocationIndexer.__setitem__\u001b[0;34m(self, key, value)\u001b[0m\n\u001b[1;32m    <a href='file:///opt/homebrew/lib/python3.9/site-packages/pandas/core/indexing.py?line=712'>713</a>\u001b[0m \u001b[39mself\u001b[39m\u001b[39m.\u001b[39m_has_valid_setitem_indexer(key)\n\u001b[1;32m    <a href='file:///opt/homebrew/lib/python3.9/site-packages/pandas/core/indexing.py?line=714'>715</a>\u001b[0m iloc \u001b[39m=\u001b[39m \u001b[39mself\u001b[39m \u001b[39mif\u001b[39;00m \u001b[39mself\u001b[39m\u001b[39m.\u001b[39mname \u001b[39m==\u001b[39m \u001b[39m\"\u001b[39m\u001b[39miloc\u001b[39m\u001b[39m\"\u001b[39m \u001b[39melse\u001b[39;00m \u001b[39mself\u001b[39m\u001b[39m.\u001b[39mobj\u001b[39m.\u001b[39miloc\n\u001b[0;32m--> <a href='file:///opt/homebrew/lib/python3.9/site-packages/pandas/core/indexing.py?line=715'>716</a>\u001b[0m iloc\u001b[39m.\u001b[39;49m_setitem_with_indexer(indexer, value, \u001b[39mself\u001b[39;49m\u001b[39m.\u001b[39;49mname)\n",
      "File \u001b[0;32m/opt/homebrew/lib/python3.9/site-packages/pandas/core/indexing.py:1682\u001b[0m, in \u001b[0;36m_iLocIndexer._setitem_with_indexer\u001b[0;34m(self, indexer, value, name)\u001b[0m\n\u001b[1;32m   <a href='file:///opt/homebrew/lib/python3.9/site-packages/pandas/core/indexing.py?line=1678'>1679</a>\u001b[0m     indexer, missing \u001b[39m=\u001b[39m convert_missing_indexer(indexer)\n\u001b[1;32m   <a href='file:///opt/homebrew/lib/python3.9/site-packages/pandas/core/indexing.py?line=1680'>1681</a>\u001b[0m     \u001b[39mif\u001b[39;00m missing:\n\u001b[0;32m-> <a href='file:///opt/homebrew/lib/python3.9/site-packages/pandas/core/indexing.py?line=1681'>1682</a>\u001b[0m         \u001b[39mself\u001b[39;49m\u001b[39m.\u001b[39;49m_setitem_with_indexer_missing(indexer, value)\n\u001b[1;32m   <a href='file:///opt/homebrew/lib/python3.9/site-packages/pandas/core/indexing.py?line=1682'>1683</a>\u001b[0m         \u001b[39mreturn\u001b[39;00m\n\u001b[1;32m   <a href='file:///opt/homebrew/lib/python3.9/site-packages/pandas/core/indexing.py?line=1684'>1685</a>\u001b[0m \u001b[39m# align and set the values\u001b[39;00m\n",
      "File \u001b[0;32m/opt/homebrew/lib/python3.9/site-packages/pandas/core/indexing.py:2013\u001b[0m, in \u001b[0;36m_iLocIndexer._setitem_with_indexer_missing\u001b[0;34m(self, indexer, value)\u001b[0m\n\u001b[1;32m   <a href='file:///opt/homebrew/lib/python3.9/site-packages/pandas/core/indexing.py?line=2010'>2011</a>\u001b[0m     \u001b[39mself\u001b[39m\u001b[39m.\u001b[39mobj\u001b[39m.\u001b[39m_mgr \u001b[39m=\u001b[39m df\u001b[39m.\u001b[39m_mgr\n\u001b[1;32m   <a href='file:///opt/homebrew/lib/python3.9/site-packages/pandas/core/indexing.py?line=2011'>2012</a>\u001b[0m \u001b[39melse\u001b[39;00m:\n\u001b[0;32m-> <a href='file:///opt/homebrew/lib/python3.9/site-packages/pandas/core/indexing.py?line=2012'>2013</a>\u001b[0m     \u001b[39mself\u001b[39m\u001b[39m.\u001b[39mobj\u001b[39m.\u001b[39m_mgr \u001b[39m=\u001b[39m \u001b[39mself\u001b[39;49m\u001b[39m.\u001b[39;49mobj\u001b[39m.\u001b[39;49m_append(value)\u001b[39m.\u001b[39m_mgr\n\u001b[1;32m   <a href='file:///opt/homebrew/lib/python3.9/site-packages/pandas/core/indexing.py?line=2013'>2014</a>\u001b[0m \u001b[39mself\u001b[39m\u001b[39m.\u001b[39mobj\u001b[39m.\u001b[39m_maybe_update_cacher(clear\u001b[39m=\u001b[39m\u001b[39mTrue\u001b[39;00m)\n",
      "File \u001b[0;32m/opt/homebrew/lib/python3.9/site-packages/pandas/core/frame.py:9056\u001b[0m, in \u001b[0;36mDataFrame._append\u001b[0;34m(self, other, ignore_index, verify_integrity, sort)\u001b[0m\n\u001b[1;32m   <a href='file:///opt/homebrew/lib/python3.9/site-packages/pandas/core/frame.py?line=9053'>9054</a>\u001b[0m index \u001b[39m=\u001b[39m Index([other\u001b[39m.\u001b[39mname], name\u001b[39m=\u001b[39m\u001b[39mself\u001b[39m\u001b[39m.\u001b[39mindex\u001b[39m.\u001b[39mname)\n\u001b[1;32m   <a href='file:///opt/homebrew/lib/python3.9/site-packages/pandas/core/frame.py?line=9054'>9055</a>\u001b[0m idx_diff \u001b[39m=\u001b[39m other\u001b[39m.\u001b[39mindex\u001b[39m.\u001b[39mdifference(\u001b[39mself\u001b[39m\u001b[39m.\u001b[39mcolumns)\n\u001b[0;32m-> <a href='file:///opt/homebrew/lib/python3.9/site-packages/pandas/core/frame.py?line=9055'>9056</a>\u001b[0m combined_columns \u001b[39m=\u001b[39m \u001b[39mself\u001b[39;49m\u001b[39m.\u001b[39;49mcolumns\u001b[39m.\u001b[39;49mappend(idx_diff)\n\u001b[1;32m   <a href='file:///opt/homebrew/lib/python3.9/site-packages/pandas/core/frame.py?line=9056'>9057</a>\u001b[0m row_df \u001b[39m=\u001b[39m other\u001b[39m.\u001b[39mto_frame()\u001b[39m.\u001b[39mT\n\u001b[1;32m   <a href='file:///opt/homebrew/lib/python3.9/site-packages/pandas/core/frame.py?line=9057'>9058</a>\u001b[0m \u001b[39m# infer_objects is needed for\u001b[39;00m\n\u001b[1;32m   <a href='file:///opt/homebrew/lib/python3.9/site-packages/pandas/core/frame.py?line=9058'>9059</a>\u001b[0m \u001b[39m#  test_append_empty_frame_to_series_with_dateutil_tz\u001b[39;00m\n",
      "File \u001b[0;32m/opt/homebrew/lib/python3.9/site-packages/pandas/core/indexes/base.py:5120\u001b[0m, in \u001b[0;36mIndex.append\u001b[0;34m(self, other)\u001b[0m\n\u001b[1;32m   <a href='file:///opt/homebrew/lib/python3.9/site-packages/pandas/core/indexes/base.py?line=5116'>5117</a>\u001b[0m names \u001b[39m=\u001b[39m {obj\u001b[39m.\u001b[39mname \u001b[39mfor\u001b[39;00m obj \u001b[39min\u001b[39;00m to_concat}\n\u001b[1;32m   <a href='file:///opt/homebrew/lib/python3.9/site-packages/pandas/core/indexes/base.py?line=5117'>5118</a>\u001b[0m name \u001b[39m=\u001b[39m \u001b[39mNone\u001b[39;00m \u001b[39mif\u001b[39;00m \u001b[39mlen\u001b[39m(names) \u001b[39m>\u001b[39m \u001b[39m1\u001b[39m \u001b[39melse\u001b[39;00m \u001b[39mself\u001b[39m\u001b[39m.\u001b[39mname\n\u001b[0;32m-> <a href='file:///opt/homebrew/lib/python3.9/site-packages/pandas/core/indexes/base.py?line=5119'>5120</a>\u001b[0m \u001b[39mreturn\u001b[39;00m \u001b[39mself\u001b[39;49m\u001b[39m.\u001b[39;49m_concat(to_concat, name)\n",
      "File \u001b[0;32m/opt/homebrew/lib/python3.9/site-packages/pandas/core/indexes/base.py:5134\u001b[0m, in \u001b[0;36mIndex._concat\u001b[0;34m(self, to_concat, name)\u001b[0m\n\u001b[1;32m   <a href='file:///opt/homebrew/lib/python3.9/site-packages/pandas/core/indexes/base.py?line=5130'>5131</a>\u001b[0m \u001b[39mif\u001b[39;00m \u001b[39mself\u001b[39m\u001b[39m.\u001b[39m_is_backward_compat_public_numeric_index \u001b[39mand\u001b[39;00m is_numeric:\n\u001b[1;32m   <a href='file:///opt/homebrew/lib/python3.9/site-packages/pandas/core/indexes/base.py?line=5131'>5132</a>\u001b[0m     \u001b[39mreturn\u001b[39;00m \u001b[39mtype\u001b[39m(\u001b[39mself\u001b[39m)\u001b[39m.\u001b[39m_simple_new(result, name\u001b[39m=\u001b[39mname)\n\u001b[0;32m-> <a href='file:///opt/homebrew/lib/python3.9/site-packages/pandas/core/indexes/base.py?line=5133'>5134</a>\u001b[0m \u001b[39mreturn\u001b[39;00m Index\u001b[39m.\u001b[39;49m_with_infer(result, name\u001b[39m=\u001b[39;49mname)\n",
      "File \u001b[0;32m/opt/homebrew/lib/python3.9/site-packages/pandas/core/indexes/base.py:679\u001b[0m, in \u001b[0;36mIndex._with_infer\u001b[0;34m(cls, *args, **kwargs)\u001b[0m\n\u001b[1;32m    <a href='file:///opt/homebrew/lib/python3.9/site-packages/pandas/core/indexes/base.py?line=673'>674</a>\u001b[0m \u001b[39m\"\"\"\u001b[39;00m\n\u001b[1;32m    <a href='file:///opt/homebrew/lib/python3.9/site-packages/pandas/core/indexes/base.py?line=674'>675</a>\u001b[0m \u001b[39mConstructor that uses the 1.0.x behavior inferring numeric dtypes\u001b[39;00m\n\u001b[1;32m    <a href='file:///opt/homebrew/lib/python3.9/site-packages/pandas/core/indexes/base.py?line=675'>676</a>\u001b[0m \u001b[39mfor ndarray[object] inputs.\u001b[39;00m\n\u001b[1;32m    <a href='file:///opt/homebrew/lib/python3.9/site-packages/pandas/core/indexes/base.py?line=676'>677</a>\u001b[0m \u001b[39m\"\"\"\u001b[39;00m\n\u001b[1;32m    <a href='file:///opt/homebrew/lib/python3.9/site-packages/pandas/core/indexes/base.py?line=677'>678</a>\u001b[0m \u001b[39mwith\u001b[39;00m warnings\u001b[39m.\u001b[39mcatch_warnings():\n\u001b[0;32m--> <a href='file:///opt/homebrew/lib/python3.9/site-packages/pandas/core/indexes/base.py?line=678'>679</a>\u001b[0m     warnings\u001b[39m.\u001b[39;49mfilterwarnings(\u001b[39m\"\u001b[39;49m\u001b[39mignore\u001b[39;49m\u001b[39m\"\u001b[39;49m, \u001b[39m\"\u001b[39;49m\u001b[39m.*the Index constructor\u001b[39;49m\u001b[39m\"\u001b[39;49m, \u001b[39mFutureWarning\u001b[39;49;00m)\n\u001b[1;32m    <a href='file:///opt/homebrew/lib/python3.9/site-packages/pandas/core/indexes/base.py?line=679'>680</a>\u001b[0m     result \u001b[39m=\u001b[39m \u001b[39mcls\u001b[39m(\u001b[39m*\u001b[39margs, \u001b[39m*\u001b[39m\u001b[39m*\u001b[39mkwargs)\n\u001b[1;32m    <a href='file:///opt/homebrew/lib/python3.9/site-packages/pandas/core/indexes/base.py?line=681'>682</a>\u001b[0m \u001b[39mif\u001b[39;00m result\u001b[39m.\u001b[39mdtype \u001b[39m==\u001b[39m _dtype_obj \u001b[39mand\u001b[39;00m \u001b[39mnot\u001b[39;00m result\u001b[39m.\u001b[39m_is_multi:\n\u001b[1;32m    <a href='file:///opt/homebrew/lib/python3.9/site-packages/pandas/core/indexes/base.py?line=682'>683</a>\u001b[0m     \u001b[39m# error: Argument 1 to \"maybe_convert_objects\" has incompatible type\u001b[39;00m\n\u001b[1;32m    <a href='file:///opt/homebrew/lib/python3.9/site-packages/pandas/core/indexes/base.py?line=683'>684</a>\u001b[0m     \u001b[39m# \"Union[ExtensionArray, ndarray[Any, Any]]\"; expected\u001b[39;00m\n\u001b[1;32m    <a href='file:///opt/homebrew/lib/python3.9/site-packages/pandas/core/indexes/base.py?line=684'>685</a>\u001b[0m     \u001b[39m# \"ndarray[Any, Any]\"\u001b[39;00m\n",
      "File \u001b[0;32m/opt/homebrew/Cellar/python@3.9/3.9.12/Frameworks/Python.framework/Versions/3.9/lib/python3.9/warnings.py:158\u001b[0m, in \u001b[0;36mfilterwarnings\u001b[0;34m(action, message, category, module, lineno, append)\u001b[0m\n\u001b[1;32m    <a href='file:///opt/homebrew/Cellar/python%403.9/3.9.12/Frameworks/Python.framework/Versions/3.9/lib/python3.9/warnings.py?line=155'>156</a>\u001b[0m \u001b[39melse\u001b[39;00m:\n\u001b[1;32m    <a href='file:///opt/homebrew/Cellar/python%403.9/3.9.12/Frameworks/Python.framework/Versions/3.9/lib/python3.9/warnings.py?line=156'>157</a>\u001b[0m     message \u001b[39m=\u001b[39m \u001b[39mNone\u001b[39;00m\n\u001b[0;32m--> <a href='file:///opt/homebrew/Cellar/python%403.9/3.9.12/Frameworks/Python.framework/Versions/3.9/lib/python3.9/warnings.py?line=157'>158</a>\u001b[0m \u001b[39mif\u001b[39;00m module:\n\u001b[1;32m    <a href='file:///opt/homebrew/Cellar/python%403.9/3.9.12/Frameworks/Python.framework/Versions/3.9/lib/python3.9/warnings.py?line=158'>159</a>\u001b[0m     module \u001b[39m=\u001b[39m re\u001b[39m.\u001b[39mcompile(module)\n\u001b[1;32m    <a href='file:///opt/homebrew/Cellar/python%403.9/3.9.12/Frameworks/Python.framework/Versions/3.9/lib/python3.9/warnings.py?line=159'>160</a>\u001b[0m \u001b[39melse\u001b[39;00m:\n",
      "\u001b[0;31mKeyboardInterrupt\u001b[0m: "
     ]
    }
   ],
   "source": [
    "def buyUser():\n",
    "  global buyItem\n",
    "  for i in tqdm(u.index):\n",
    "    for j in range(5):\n",
    "      a=str(u['recommendations'][i][j]).split(',')\n",
    "      a = a[0][15:]\n",
    "      b=u['user_id'][i]\n",
    "      buyItem.loc[i]=[b,a]\n",
    "      # buyItem = buyItem.append({'user_id':b, 'article_id':a}, ignore_index=True)\n",
    "      # print(a[0][15:])\n",
    "\n",
    "buyUser()\n",
    "buyItem"
   ]
  },
  {
   "cell_type": "code",
   "execution_count": 66,
   "metadata": {},
   "outputs": [
    {
     "data": {
      "text/plain": [
       "0               28\n",
       "1               31\n",
       "2               34\n",
       "3               53\n",
       "4               65\n",
       "            ...   \n",
       "1081552    1371918\n",
       "1081553    1371927\n",
       "1081554    1371939\n",
       "1081555    1371971\n",
       "1081556    1371975\n",
       "Name: user_id, Length: 1081557, dtype: int32"
      ]
     },
     "execution_count": 66,
     "metadata": {},
     "output_type": "execute_result"
    }
   ],
   "source": [
    "u['user_id']"
   ]
  },
  {
   "cell_type": "code",
   "execution_count": 70,
   "metadata": {},
   "outputs": [
    {
     "ename": "AttributeError",
     "evalue": "'DataFrame' object has no attribute 'array'",
     "output_type": "error",
     "traceback": [
      "\u001b[0;31m---------------------------------------------------------------------------\u001b[0m",
      "\u001b[0;31mAttributeError\u001b[0m                            Traceback (most recent call last)",
      "\u001b[1;32m/Users/redstone/Desktop/vsc/jupyter/1year.ipynb Cell 26'\u001b[0m in \u001b[0;36m<cell line: 1>\u001b[0;34m()\u001b[0m\n\u001b[0;32m----> <a href='vscode-notebook-cell:/Users/redstone/Desktop/vsc/jupyter/1year.ipynb#ch0000024?line=0'>1</a>\u001b[0m u\u001b[39m.\u001b[39;49mloc[u[\u001b[39m'\u001b[39;49m\u001b[39muser_id\u001b[39;49m\u001b[39m'\u001b[39;49m] \u001b[39m==\u001b[39;49m \u001b[39m32\u001b[39;49m]\u001b[39m.\u001b[39;49marray()\n",
      "File \u001b[0;32m/opt/homebrew/lib/python3.9/site-packages/pandas/core/generic.py:5583\u001b[0m, in \u001b[0;36mNDFrame.__getattr__\u001b[0;34m(self, name)\u001b[0m\n\u001b[1;32m   <a href='file:///opt/homebrew/lib/python3.9/site-packages/pandas/core/generic.py?line=5575'>5576</a>\u001b[0m \u001b[39mif\u001b[39;00m (\n\u001b[1;32m   <a href='file:///opt/homebrew/lib/python3.9/site-packages/pandas/core/generic.py?line=5576'>5577</a>\u001b[0m     name \u001b[39mnot\u001b[39;00m \u001b[39min\u001b[39;00m \u001b[39mself\u001b[39m\u001b[39m.\u001b[39m_internal_names_set\n\u001b[1;32m   <a href='file:///opt/homebrew/lib/python3.9/site-packages/pandas/core/generic.py?line=5577'>5578</a>\u001b[0m     \u001b[39mand\u001b[39;00m name \u001b[39mnot\u001b[39;00m \u001b[39min\u001b[39;00m \u001b[39mself\u001b[39m\u001b[39m.\u001b[39m_metadata\n\u001b[1;32m   <a href='file:///opt/homebrew/lib/python3.9/site-packages/pandas/core/generic.py?line=5578'>5579</a>\u001b[0m     \u001b[39mand\u001b[39;00m name \u001b[39mnot\u001b[39;00m \u001b[39min\u001b[39;00m \u001b[39mself\u001b[39m\u001b[39m.\u001b[39m_accessors\n\u001b[1;32m   <a href='file:///opt/homebrew/lib/python3.9/site-packages/pandas/core/generic.py?line=5579'>5580</a>\u001b[0m     \u001b[39mand\u001b[39;00m \u001b[39mself\u001b[39m\u001b[39m.\u001b[39m_info_axis\u001b[39m.\u001b[39m_can_hold_identifiers_and_holds_name(name)\n\u001b[1;32m   <a href='file:///opt/homebrew/lib/python3.9/site-packages/pandas/core/generic.py?line=5580'>5581</a>\u001b[0m ):\n\u001b[1;32m   <a href='file:///opt/homebrew/lib/python3.9/site-packages/pandas/core/generic.py?line=5581'>5582</a>\u001b[0m     \u001b[39mreturn\u001b[39;00m \u001b[39mself\u001b[39m[name]\n\u001b[0;32m-> <a href='file:///opt/homebrew/lib/python3.9/site-packages/pandas/core/generic.py?line=5582'>5583</a>\u001b[0m \u001b[39mreturn\u001b[39;00m \u001b[39mobject\u001b[39;49m\u001b[39m.\u001b[39;49m\u001b[39m__getattribute__\u001b[39;49m(\u001b[39mself\u001b[39;49m, name)\n",
      "\u001b[0;31mAttributeError\u001b[0m: 'DataFrame' object has no attribute 'array'"
     ]
    }
   ],
   "source": [
    "u.loc[u['user_id'] == 32].array()"
   ]
  },
  {
   "cell_type": "code",
   "execution_count": 157,
   "metadata": {},
   "outputs": [
    {
     "data": {
      "text/plain": [
       "Row(article_id=813113002, rating=26.393983840942383)"
      ]
     },
     "execution_count": 157,
     "metadata": {},
     "output_type": "execute_result"
    }
   ],
   "source": [
    "u[\"recommendations\"][756396][0]"
   ]
  },
  {
   "cell_type": "code",
   "execution_count": 96,
   "metadata": {},
   "outputs": [
    {
     "data": {
      "text/html": [
       "<div>\n",
       "<style scoped>\n",
       "    .dataframe tbody tr th:only-of-type {\n",
       "        vertical-align: middle;\n",
       "    }\n",
       "\n",
       "    .dataframe tbody tr th {\n",
       "        vertical-align: top;\n",
       "    }\n",
       "\n",
       "    .dataframe thead th {\n",
       "        text-align: right;\n",
       "    }\n",
       "</style>\n",
       "<table border=\"1\" class=\"dataframe\">\n",
       "  <thead>\n",
       "    <tr style=\"text-align: right;\">\n",
       "      <th></th>\n",
       "      <th>user_id</th>\n",
       "      <th>recommendations</th>\n",
       "    </tr>\n",
       "  </thead>\n",
       "  <tbody>\n",
       "    <tr>\n",
       "      <th>0</th>\n",
       "      <td>28</td>\n",
       "      <td>[(734914001, 30.603647232055664), (760528001, ...</td>\n",
       "    </tr>\n",
       "    <tr>\n",
       "      <th>1</th>\n",
       "      <td>31</td>\n",
       "      <td>[(755716001, 18.209762573242188), (678342016, ...</td>\n",
       "    </tr>\n",
       "    <tr>\n",
       "      <th>2</th>\n",
       "      <td>34</td>\n",
       "      <td>[(825664001, 32.688316345214844), (810384001, ...</td>\n",
       "    </tr>\n",
       "    <tr>\n",
       "      <th>3</th>\n",
       "      <td>53</td>\n",
       "      <td>[(485551006, 25.546480178833008), (813113002, ...</td>\n",
       "    </tr>\n",
       "    <tr>\n",
       "      <th>4</th>\n",
       "      <td>65</td>\n",
       "      <td>[(836274001, 29.742891311645508), (813113002, ...</td>\n",
       "    </tr>\n",
       "  </tbody>\n",
       "</table>\n",
       "</div>"
      ],
      "text/plain": [
       "   user_id                                    recommendations\n",
       "0       28  [(734914001, 30.603647232055664), (760528001, ...\n",
       "1       31  [(755716001, 18.209762573242188), (678342016, ...\n",
       "2       34  [(825664001, 32.688316345214844), (810384001, ...\n",
       "3       53  [(485551006, 25.546480178833008), (813113002, ...\n",
       "4       65  [(836274001, 29.742891311645508), (813113002, ..."
      ]
     },
     "execution_count": 96,
     "metadata": {},
     "output_type": "execute_result"
    }
   ],
   "source": [
    "u.head()"
   ]
  },
  {
   "cell_type": "code",
   "execution_count": 97,
   "metadata": {},
   "outputs": [
    {
     "data": {
      "text/html": [
       "<div>\n",
       "<style scoped>\n",
       "    .dataframe tbody tr th:only-of-type {\n",
       "        vertical-align: middle;\n",
       "    }\n",
       "\n",
       "    .dataframe tbody tr th {\n",
       "        vertical-align: top;\n",
       "    }\n",
       "\n",
       "    .dataframe thead th {\n",
       "        text-align: right;\n",
       "    }\n",
       "</style>\n",
       "<table border=\"1\" class=\"dataframe\">\n",
       "  <thead>\n",
       "    <tr style=\"text-align: right;\">\n",
       "      <th></th>\n",
       "      <th>user_id</th>\n",
       "      <th>recommendations</th>\n",
       "    </tr>\n",
       "  </thead>\n",
       "  <tbody>\n",
       "    <tr>\n",
       "      <th>0</th>\n",
       "      <td>28</td>\n",
       "      <td>[(734914001, 30.603647232055664), (760528001, ...</td>\n",
       "    </tr>\n",
       "    <tr>\n",
       "      <th>1</th>\n",
       "      <td>31</td>\n",
       "      <td>[(755716001, 18.209762573242188), (678342016, ...</td>\n",
       "    </tr>\n",
       "    <tr>\n",
       "      <th>2</th>\n",
       "      <td>34</td>\n",
       "      <td>[(825664001, 32.688316345214844), (810384001, ...</td>\n",
       "    </tr>\n",
       "    <tr>\n",
       "      <th>3</th>\n",
       "      <td>53</td>\n",
       "      <td>[(485551006, 25.546480178833008), (813113002, ...</td>\n",
       "    </tr>\n",
       "    <tr>\n",
       "      <th>4</th>\n",
       "      <td>65</td>\n",
       "      <td>[(836274001, 29.742891311645508), (813113002, ...</td>\n",
       "    </tr>\n",
       "    <tr>\n",
       "      <th>...</th>\n",
       "      <td>...</td>\n",
       "      <td>...</td>\n",
       "    </tr>\n",
       "    <tr>\n",
       "      <th>1081552</th>\n",
       "      <td>1371918</td>\n",
       "      <td>[(813113002, 22.74728775024414), (734914001, 1...</td>\n",
       "    </tr>\n",
       "    <tr>\n",
       "      <th>1081553</th>\n",
       "      <td>1371927</td>\n",
       "      <td>[(799658001, 20.039321899414062), (734914001, ...</td>\n",
       "    </tr>\n",
       "    <tr>\n",
       "      <th>1081554</th>\n",
       "      <td>1371939</td>\n",
       "      <td>[(810384001, 33.16739273071289), (836274001, 2...</td>\n",
       "    </tr>\n",
       "    <tr>\n",
       "      <th>1081555</th>\n",
       "      <td>1371971</td>\n",
       "      <td>[(485551006, 21.19314956665039), (813113002, 2...</td>\n",
       "    </tr>\n",
       "    <tr>\n",
       "      <th>1081556</th>\n",
       "      <td>1371975</td>\n",
       "      <td>[(497637024, 36.105628967285156), (799658001, ...</td>\n",
       "    </tr>\n",
       "  </tbody>\n",
       "</table>\n",
       "<p>1081557 rows × 2 columns</p>\n",
       "</div>"
      ],
      "text/plain": [
       "         user_id                                    recommendations\n",
       "0             28  [(734914001, 30.603647232055664), (760528001, ...\n",
       "1             31  [(755716001, 18.209762573242188), (678342016, ...\n",
       "2             34  [(825664001, 32.688316345214844), (810384001, ...\n",
       "3             53  [(485551006, 25.546480178833008), (813113002, ...\n",
       "4             65  [(836274001, 29.742891311645508), (813113002, ...\n",
       "...          ...                                                ...\n",
       "1081552  1371918  [(813113002, 22.74728775024414), (734914001, 1...\n",
       "1081553  1371927  [(799658001, 20.039321899414062), (734914001, ...\n",
       "1081554  1371939  [(810384001, 33.16739273071289), (836274001, 2...\n",
       "1081555  1371971  [(485551006, 21.19314956665039), (813113002, 2...\n",
       "1081556  1371975  [(497637024, 36.105628967285156), (799658001, ...\n",
       "\n",
       "[1081557 rows x 2 columns]"
      ]
     },
     "execution_count": 97,
     "metadata": {},
     "output_type": "execute_result"
    }
   ],
   "source": [
    "u.replace(',','')"
   ]
  },
  {
   "cell_type": "code",
   "execution_count": 92,
   "metadata": {},
   "outputs": [],
   "source": [
    "u_dict = u.to_dict('records')"
   ]
  },
  {
   "cell_type": "code",
   "execution_count": 94,
   "metadata": {},
   "outputs": [
    {
     "data": {
      "text/plain": [
       "Row(article_id=760528001, rating=27.24862289428711)"
      ]
     },
     "execution_count": 94,
     "metadata": {},
     "output_type": "execute_result"
    }
   ],
   "source": [
    "u_dict[0]['recommendations'][1]"
   ]
  },
  {
   "cell_type": "code",
   "execution_count": 72,
   "metadata": {},
   "outputs": [
    {
     "ename": "TypeError",
     "evalue": "list indices must be integers or slices, not str",
     "output_type": "error",
     "traceback": [
      "\u001b[0;31m---------------------------------------------------------------------------\u001b[0m",
      "\u001b[0;31mTypeError\u001b[0m                                 Traceback (most recent call last)",
      "\u001b[1;32m/Users/redstone/Desktop/vsc/jupyter/1year.ipynb Cell 31'\u001b[0m in \u001b[0;36m<cell line: 1>\u001b[0;34m()\u001b[0m\n\u001b[0;32m----> <a href='vscode-notebook-cell:/Users/redstone/Desktop/vsc/jupyter/1year.ipynb#ch0000047?line=0'>1</a>\u001b[0m u_dict[\u001b[39m'\u001b[39;49m\u001b[39mrecommendations\u001b[39;49m\u001b[39m'\u001b[39;49m]\u001b[39m.\u001b[39mvalues()\n",
      "\u001b[0;31mTypeError\u001b[0m: list indices must be integers or slices, not str"
     ]
    }
   ],
   "source": [
    "u_dict['recommendations'].values()"
   ]
  },
  {
   "cell_type": "code",
   "execution_count": 36,
   "metadata": {},
   "outputs": [
    {
     "data": {
      "text/plain": [
       "0         NaN\n",
       "1         NaN\n",
       "2         NaN\n",
       "3         NaN\n",
       "4         NaN\n",
       "           ..\n",
       "1081552   NaN\n",
       "1081553   NaN\n",
       "1081554   NaN\n",
       "1081555   NaN\n",
       "1081556   NaN\n",
       "Name: recommendations, Length: 1081557, dtype: float64"
      ]
     },
     "execution_count": 36,
     "metadata": {},
     "output_type": "execute_result"
    }
   ],
   "source": [
    "u['recommendations'].str.split(\", \")\n"
   ]
  },
  {
   "cell_type": "code",
   "execution_count": 36,
   "metadata": {},
   "outputs": [
    {
     "name": "stderr",
     "output_type": "stream",
     "text": [
      "                                                                                \r"
     ]
    },
    {
     "data": {
      "text/html": [
       "<div>\n",
       "<style scoped>\n",
       "    .dataframe tbody tr th:only-of-type {\n",
       "        vertical-align: middle;\n",
       "    }\n",
       "\n",
       "    .dataframe tbody tr th {\n",
       "        vertical-align: top;\n",
       "    }\n",
       "\n",
       "    .dataframe thead th {\n",
       "        text-align: right;\n",
       "    }\n",
       "</style>\n",
       "<table border=\"1\" class=\"dataframe\">\n",
       "  <thead>\n",
       "    <tr style=\"text-align: right;\">\n",
       "      <th></th>\n",
       "      <th>customer_id</th>\n",
       "      <th>article_id</th>\n",
       "      <th>rfm</th>\n",
       "      <th>user_id</th>\n",
       "      <th>item_id</th>\n",
       "      <th>t_dat</th>\n",
       "      <th>prediction</th>\n",
       "    </tr>\n",
       "  </thead>\n",
       "  <tbody>\n",
       "    <tr>\n",
       "      <th>0</th>\n",
       "      <td>0001420326c217a367048472e05395373c40a039f6fd45...</td>\n",
       "      <td>566941002.0</td>\n",
       "      <td>1.000000</td>\n",
       "      <td>28</td>\n",
       "      <td>15407</td>\n",
       "      <td>2018-11-10</td>\n",
       "      <td>1.615213</td>\n",
       "    </tr>\n",
       "    <tr>\n",
       "      <th>1</th>\n",
       "      <td>0001420326c217a367048472e05395373c40a039f6fd45...</td>\n",
       "      <td>615797001.0</td>\n",
       "      <td>1.000000</td>\n",
       "      <td>28</td>\n",
       "      <td>26066</td>\n",
       "      <td>2018-11-07</td>\n",
       "      <td>10.822620</td>\n",
       "    </tr>\n",
       "    <tr>\n",
       "      <th>2</th>\n",
       "      <td>0001420326c217a367048472e05395373c40a039f6fd45...</td>\n",
       "      <td>617249011.0</td>\n",
       "      <td>5.472143</td>\n",
       "      <td>28</td>\n",
       "      <td>26497</td>\n",
       "      <td>2018-11-10</td>\n",
       "      <td>5.432347</td>\n",
       "    </tr>\n",
       "    <tr>\n",
       "      <th>3</th>\n",
       "      <td>0001420326c217a367048472e05395373c40a039f6fd45...</td>\n",
       "      <td>617249011.0</td>\n",
       "      <td>5.472143</td>\n",
       "      <td>28</td>\n",
       "      <td>26497</td>\n",
       "      <td>2018-11-13</td>\n",
       "      <td>5.432347</td>\n",
       "    </tr>\n",
       "    <tr>\n",
       "      <th>4</th>\n",
       "      <td>0001420326c217a367048472e05395373c40a039f6fd45...</td>\n",
       "      <td>617249011.0</td>\n",
       "      <td>5.472143</td>\n",
       "      <td>28</td>\n",
       "      <td>26497</td>\n",
       "      <td>2018-11-13</td>\n",
       "      <td>5.432347</td>\n",
       "    </tr>\n",
       "    <tr>\n",
       "      <th>...</th>\n",
       "      <td>...</td>\n",
       "      <td>...</td>\n",
       "      <td>...</td>\n",
       "      <td>...</td>\n",
       "      <td>...</td>\n",
       "      <td>...</td>\n",
       "      <td>...</td>\n",
       "    </tr>\n",
       "    <tr>\n",
       "      <th>95</th>\n",
       "      <td>00067622de3151a7219b4ed9922def50b51601fbe41418...</td>\n",
       "      <td>811340001.0</td>\n",
       "      <td>6.993809</td>\n",
       "      <td>155</td>\n",
       "      <td>83127</td>\n",
       "      <td>2019-09-07</td>\n",
       "      <td>7.551244</td>\n",
       "    </tr>\n",
       "    <tr>\n",
       "      <th>96</th>\n",
       "      <td>00067622de3151a7219b4ed9922def50b51601fbe41418...</td>\n",
       "      <td>836009001.0</td>\n",
       "      <td>5.503095</td>\n",
       "      <td>155</td>\n",
       "      <td>89074</td>\n",
       "      <td>2019-09-15</td>\n",
       "      <td>5.203204</td>\n",
       "    </tr>\n",
       "    <tr>\n",
       "      <th>97</th>\n",
       "      <td>00067622de3151a7219b4ed9922def50b51601fbe41418...</td>\n",
       "      <td>624383004.0</td>\n",
       "      <td>5.503095</td>\n",
       "      <td>155</td>\n",
       "      <td>28929</td>\n",
       "      <td>2019-09-30</td>\n",
       "      <td>4.431499</td>\n",
       "    </tr>\n",
       "    <tr>\n",
       "      <th>98</th>\n",
       "      <td>00067622de3151a7219b4ed9922def50b51601fbe41418...</td>\n",
       "      <td>624383007.0</td>\n",
       "      <td>5.503095</td>\n",
       "      <td>155</td>\n",
       "      <td>28931</td>\n",
       "      <td>2019-09-30</td>\n",
       "      <td>5.691515</td>\n",
       "    </tr>\n",
       "    <tr>\n",
       "      <th>99</th>\n",
       "      <td>00067622de3151a7219b4ed9922def50b51601fbe41418...</td>\n",
       "      <td>760454004.0</td>\n",
       "      <td>7.987619</td>\n",
       "      <td>155</td>\n",
       "      <td>70423</td>\n",
       "      <td>2019-10-18</td>\n",
       "      <td>7.845840</td>\n",
       "    </tr>\n",
       "  </tbody>\n",
       "</table>\n",
       "<p>100 rows × 7 columns</p>\n",
       "</div>"
      ],
      "text/plain": [
       "                                          customer_id   article_id       rfm  \\\n",
       "0   0001420326c217a367048472e05395373c40a039f6fd45...  566941002.0  1.000000   \n",
       "1   0001420326c217a367048472e05395373c40a039f6fd45...  615797001.0  1.000000   \n",
       "2   0001420326c217a367048472e05395373c40a039f6fd45...  617249011.0  5.472143   \n",
       "3   0001420326c217a367048472e05395373c40a039f6fd45...  617249011.0  5.472143   \n",
       "4   0001420326c217a367048472e05395373c40a039f6fd45...  617249011.0  5.472143   \n",
       "..                                                ...          ...       ...   \n",
       "95  00067622de3151a7219b4ed9922def50b51601fbe41418...  811340001.0  6.993809   \n",
       "96  00067622de3151a7219b4ed9922def50b51601fbe41418...  836009001.0  5.503095   \n",
       "97  00067622de3151a7219b4ed9922def50b51601fbe41418...  624383004.0  5.503095   \n",
       "98  00067622de3151a7219b4ed9922def50b51601fbe41418...  624383007.0  5.503095   \n",
       "99  00067622de3151a7219b4ed9922def50b51601fbe41418...  760454004.0  7.987619   \n",
       "\n",
       "    user_id  item_id       t_dat  prediction  \n",
       "0        28    15407  2018-11-10    1.615213  \n",
       "1        28    26066  2018-11-07   10.822620  \n",
       "2        28    26497  2018-11-10    5.432347  \n",
       "3        28    26497  2018-11-13    5.432347  \n",
       "4        28    26497  2018-11-13    5.432347  \n",
       "..      ...      ...         ...         ...  \n",
       "95      155    83127  2019-09-07    7.551244  \n",
       "96      155    89074  2019-09-15    5.203204  \n",
       "97      155    28929  2019-09-30    4.431499  \n",
       "98      155    28931  2019-09-30    5.691515  \n",
       "99      155    70423  2019-10-18    7.845840  \n",
       "\n",
       "[100 rows x 7 columns]"
      ]
     },
     "execution_count": 36,
     "metadata": {},
     "output_type": "execute_result"
    }
   ],
   "source": [
    "pred_ratings.limit(100).toPandas()"
   ]
  },
  {
   "cell_type": "code",
   "execution_count": 12,
   "metadata": {},
   "outputs": [
    {
     "name": "stderr",
     "output_type": "stream",
     "text": [
      "                                                                                \r"
     ]
    }
   ],
   "source": [
    "df18 = pred_ratings.toPandas()"
   ]
  },
  {
   "cell_type": "code",
   "execution_count": 28,
   "metadata": {},
   "outputs": [
    {
     "name": "stdout",
     "output_type": "stream",
     "text": [
      "<class 'pandas.core.frame.DataFrame'>\n",
      "RangeIndex: 7601518 entries, 0 to 7601517\n",
      "Data columns (total 7 columns):\n",
      " #   Column       Dtype  \n",
      "---  ------       -----  \n",
      " 0   customer_id  object \n",
      " 1   article_id   float64\n",
      " 2   rfm          float64\n",
      " 3   user_id      int32  \n",
      " 4   item_id      int32  \n",
      " 5   t_dat        object \n",
      " 6   prediction   float32\n",
      "dtypes: float32(1), float64(2), int32(2), object(2)\n",
      "memory usage: 319.0+ MB\n"
     ]
    }
   ],
   "source": [
    "df18.info()"
   ]
  },
  {
   "cell_type": "code",
   "execution_count": 29,
   "metadata": {},
   "outputs": [],
   "source": [
    "user = df18[\"user_id\"].unique()"
   ]
  },
  {
   "cell_type": "code",
   "execution_count": 30,
   "metadata": {},
   "outputs": [
    {
     "data": {
      "text/plain": [
       "array([     28,      31,      34, ..., 1371836, 1371855, 1371918],\n",
       "      dtype=int32)"
      ]
     },
     "execution_count": 30,
     "metadata": {},
     "output_type": "execute_result"
    }
   ],
   "source": [
    "user"
   ]
  },
  {
   "cell_type": "code",
   "execution_count": 40,
   "metadata": {},
   "outputs": [
    {
     "data": {
      "image/png": "[encoded data removed]",
      "text/plain": [
       "<Figure size 720x360 with 1 Axes>"
      ]
     },
     "metadata": {},
     "output_type": "display_data"
    }
   ],
   "source": [
    "import seaborn as sns\n",
    "from matplotlib import pyplot as plt\n",
    "\n",
    "sns.set_style(\"darkgrid\")\n",
    "f, ax = plt.subplots(figsize=(10,5))\n",
    "ax = sns.histplot(data=df18, x='prediction', bins=50, color='orange')\n",
    "ax.set_xlabel('Distribution of the customers age')\n",
    "plt.show()"
   ]
  },
  {
   "cell_type": "code",
   "execution_count": 109,
   "metadata": {},
   "outputs": [
    {
     "name": "stderr",
     "output_type": "stream",
     "text": [
      "[Stage 427:============================================>            (7 + 2) / 9]\r"
     ]
    },
    {
     "name": "stdout",
     "output_type": "stream",
     "text": [
      "RMSE: 0.9957165072756821\n",
      "MAE: 0.6334563741915996\n"
     ]
    },
    {
     "name": "stderr",
     "output_type": "stream",
     "text": [
      "                                                                                \r"
     ]
    }
   ],
   "source": [
    "# Get metric for training\n",
    "from pyspark.ml.evaluation import RegressionEvaluator\n",
    "\n",
    "evaluator = RegressionEvaluator(labelCol='rfm',\n",
    "                              predictionCol='prediction',\n",
    "                              metricName='rmse')\n",
    "# evaluate 메소드에 예측값 담겨있는 dataframe 넣어주기\n",
    "rmse = evaluator.evaluate(pred_ratings)\n",
    "\n",
    "mae_eval = RegressionEvaluator(labelCol='rfm',\n",
    "                              predictionCol='prediction',\n",
    "                              metricName='mae')\n",
    "mae = mae_eval.evaluate(pred_ratings)\n",
    "\n",
    "print(\"RMSE:\", rmse)\n",
    "print(\"MAE:\", mae)"
   ]
  },
  {
   "cell_type": "code",
   "execution_count": 43,
   "metadata": {},
   "outputs": [
    {
     "data": {
      "text/html": [
       "<div>\n",
       "<style scoped>\n",
       "    .dataframe tbody tr th:only-of-type {\n",
       "        vertical-align: middle;\n",
       "    }\n",
       "\n",
       "    .dataframe tbody tr th {\n",
       "        vertical-align: top;\n",
       "    }\n",
       "\n",
       "    .dataframe thead th {\n",
       "        text-align: right;\n",
       "    }\n",
       "</style>\n",
       "<table border=\"1\" class=\"dataframe\">\n",
       "  <thead>\n",
       "    <tr style=\"text-align: right;\">\n",
       "      <th></th>\n",
       "      <th>customer_id</th>\n",
       "      <th>article_id</th>\n",
       "      <th>rfm</th>\n",
       "      <th>user_id</th>\n",
       "      <th>item_id</th>\n",
       "      <th>t_dat</th>\n",
       "      <th>prediction</th>\n",
       "    </tr>\n",
       "  </thead>\n",
       "  <tbody>\n",
       "    <tr>\n",
       "      <th>0</th>\n",
       "      <td>0001420326c217a367048472e05395373c40a039f6fd45...</td>\n",
       "      <td>566941002.0</td>\n",
       "      <td>1.000000</td>\n",
       "      <td>28</td>\n",
       "      <td>15407</td>\n",
       "      <td>2018-11-10</td>\n",
       "      <td>1.615213</td>\n",
       "    </tr>\n",
       "    <tr>\n",
       "      <th>1</th>\n",
       "      <td>0001420326c217a367048472e05395373c40a039f6fd45...</td>\n",
       "      <td>615797001.0</td>\n",
       "      <td>1.000000</td>\n",
       "      <td>28</td>\n",
       "      <td>26066</td>\n",
       "      <td>2018-11-07</td>\n",
       "      <td>10.822620</td>\n",
       "    </tr>\n",
       "    <tr>\n",
       "      <th>2</th>\n",
       "      <td>0001420326c217a367048472e05395373c40a039f6fd45...</td>\n",
       "      <td>617249011.0</td>\n",
       "      <td>5.472143</td>\n",
       "      <td>28</td>\n",
       "      <td>26497</td>\n",
       "      <td>2018-11-10</td>\n",
       "      <td>5.432347</td>\n",
       "    </tr>\n",
       "    <tr>\n",
       "      <th>3</th>\n",
       "      <td>0001420326c217a367048472e05395373c40a039f6fd45...</td>\n",
       "      <td>617249011.0</td>\n",
       "      <td>5.472143</td>\n",
       "      <td>28</td>\n",
       "      <td>26497</td>\n",
       "      <td>2018-11-13</td>\n",
       "      <td>5.432347</td>\n",
       "    </tr>\n",
       "    <tr>\n",
       "      <th>4</th>\n",
       "      <td>0001420326c217a367048472e05395373c40a039f6fd45...</td>\n",
       "      <td>617249011.0</td>\n",
       "      <td>5.472143</td>\n",
       "      <td>28</td>\n",
       "      <td>26497</td>\n",
       "      <td>2018-11-13</td>\n",
       "      <td>5.432347</td>\n",
       "    </tr>\n",
       "  </tbody>\n",
       "</table>\n",
       "</div>"
      ],
      "text/plain": [
       "                                         customer_id   article_id       rfm  \\\n",
       "0  0001420326c217a367048472e05395373c40a039f6fd45...  566941002.0  1.000000   \n",
       "1  0001420326c217a367048472e05395373c40a039f6fd45...  615797001.0  1.000000   \n",
       "2  0001420326c217a367048472e05395373c40a039f6fd45...  617249011.0  5.472143   \n",
       "3  0001420326c217a367048472e05395373c40a039f6fd45...  617249011.0  5.472143   \n",
       "4  0001420326c217a367048472e05395373c40a039f6fd45...  617249011.0  5.472143   \n",
       "\n",
       "   user_id  item_id       t_dat  prediction  \n",
       "0       28    15407  2018-11-10    1.615213  \n",
       "1       28    26066  2018-11-07   10.822620  \n",
       "2       28    26497  2018-11-10    5.432347  \n",
       "3       28    26497  2018-11-13    5.432347  \n",
       "4       28    26497  2018-11-13    5.432347  "
      ]
     },
     "execution_count": 43,
     "metadata": {},
     "output_type": "execute_result"
    }
   ],
   "source": [
    "df18.head()"
   ]
  },
  {
   "cell_type": "code",
   "execution_count": null,
   "metadata": {},
   "outputs": [],
   "source": []
  },
  {
   "cell_type": "code",
   "execution_count": null,
   "metadata": {},
   "outputs": [],
   "source": []
  },
  {
   "cell_type": "code",
   "execution_count": null,
   "metadata": {},
   "outputs": [],
   "source": []
  },
  {
   "cell_type": "code",
   "execution_count": null,
   "metadata": {},
   "outputs": [],
   "source": []
  },
  {
   "cell_type": "code",
   "execution_count": 31,
   "metadata": {},
   "outputs": [],
   "source": [
    "# Pyspark Library #\n",
    "# SQL\n",
    "from pyspark.sql import SparkSession\n",
    "from pyspark.sql import SQLContext\n",
    "from pyspark.sql.functions import mean, col, split, regexp_extract, when, lit\n",
    "# ML\n",
    "from pyspark.ml import Pipeline\n",
    "from pyspark.ml.feature import StringIndexer, VectorAssembler, IndexToString\n",
    "from pyspark.ml.feature import QuantileDiscretizer\n",
    "from pyspark.ml.evaluation import MulticlassClassificationEvaluator\n",
    "from pyspark.ml.recommendation import ALS"
   ]
  },
  {
   "cell_type": "code",
   "execution_count": 56,
   "metadata": {},
   "outputs": [
    {
     "data": {
      "text/html": [
       "<div>\n",
       "<style scoped>\n",
       "    .dataframe tbody tr th:only-of-type {\n",
       "        vertical-align: middle;\n",
       "    }\n",
       "\n",
       "    .dataframe tbody tr th {\n",
       "        vertical-align: top;\n",
       "    }\n",
       "\n",
       "    .dataframe thead th {\n",
       "        text-align: right;\n",
       "    }\n",
       "</style>\n",
       "<table border=\"1\" class=\"dataframe\">\n",
       "  <thead>\n",
       "    <tr style=\"text-align: right;\">\n",
       "      <th></th>\n",
       "      <th>customer_id</th>\n",
       "      <th>article_id</th>\n",
       "      <th>rfm</th>\n",
       "      <th>count</th>\n",
       "      <th>user_id</th>\n",
       "      <th>item_id</th>\n",
       "    </tr>\n",
       "  </thead>\n",
       "  <tbody>\n",
       "    <tr>\n",
       "      <th>0</th>\n",
       "      <td>000058a12d5b43e67d225668fa1f8d618c13dc232df0ca...</td>\n",
       "      <td>663713001.0</td>\n",
       "      <td>20</td>\n",
       "      <td>1</td>\n",
       "      <td>2</td>\n",
       "      <td>40179</td>\n",
       "    </tr>\n",
       "    <tr>\n",
       "      <th>1</th>\n",
       "      <td>000058a12d5b43e67d225668fa1f8d618c13dc232df0ca...</td>\n",
       "      <td>541518023.0</td>\n",
       "      <td>8</td>\n",
       "      <td>1</td>\n",
       "      <td>2</td>\n",
       "      <td>10520</td>\n",
       "    </tr>\n",
       "    <tr>\n",
       "      <th>2</th>\n",
       "      <td>00007d2de826758b65a93dd24ce629ed66842531df6699...</td>\n",
       "      <td>505221004.0</td>\n",
       "      <td>5</td>\n",
       "      <td>1</td>\n",
       "      <td>7</td>\n",
       "      <td>6387</td>\n",
       "    </tr>\n",
       "    <tr>\n",
       "      <th>3</th>\n",
       "      <td>00007d2de826758b65a93dd24ce629ed66842531df6699...</td>\n",
       "      <td>685687003.0</td>\n",
       "      <td>5</td>\n",
       "      <td>1</td>\n",
       "      <td>7</td>\n",
       "      <td>46304</td>\n",
       "    </tr>\n",
       "    <tr>\n",
       "      <th>4</th>\n",
       "      <td>00007d2de826758b65a93dd24ce629ed66842531df6699...</td>\n",
       "      <td>685687004.0</td>\n",
       "      <td>5</td>\n",
       "      <td>1</td>\n",
       "      <td>7</td>\n",
       "      <td>46305</td>\n",
       "    </tr>\n",
       "    <tr>\n",
       "      <th>5</th>\n",
       "      <td>00007d2de826758b65a93dd24ce629ed66842531df6699...</td>\n",
       "      <td>685687001.0</td>\n",
       "      <td>5</td>\n",
       "      <td>1</td>\n",
       "      <td>7</td>\n",
       "      <td>46302</td>\n",
       "    </tr>\n",
       "    <tr>\n",
       "      <th>6</th>\n",
       "      <td>00007d2de826758b65a93dd24ce629ed66842531df6699...</td>\n",
       "      <td>505221001.0</td>\n",
       "      <td>6</td>\n",
       "      <td>1</td>\n",
       "      <td>7</td>\n",
       "      <td>6386</td>\n",
       "    </tr>\n",
       "    <tr>\n",
       "      <th>7</th>\n",
       "      <td>00083cda041544b2fbb0e0d2905ad17da7cf1007526fb4...</td>\n",
       "      <td>688873012.0</td>\n",
       "      <td>8</td>\n",
       "      <td>1</td>\n",
       "      <td>198</td>\n",
       "      <td>47416</td>\n",
       "    </tr>\n",
       "    <tr>\n",
       "      <th>8</th>\n",
       "      <td>00083cda041544b2fbb0e0d2905ad17da7cf1007526fb4...</td>\n",
       "      <td>501323011.0</td>\n",
       "      <td>11</td>\n",
       "      <td>1</td>\n",
       "      <td>198</td>\n",
       "      <td>5944</td>\n",
       "    </tr>\n",
       "    <tr>\n",
       "      <th>9</th>\n",
       "      <td>00083cda041544b2fbb0e0d2905ad17da7cf1007526fb4...</td>\n",
       "      <td>598859003.0</td>\n",
       "      <td>11</td>\n",
       "      <td>1</td>\n",
       "      <td>198</td>\n",
       "      <td>22540</td>\n",
       "    </tr>\n",
       "  </tbody>\n",
       "</table>\n",
       "</div>"
      ],
      "text/plain": [
       "                                         customer_id   article_id  rfm count  \\\n",
       "0  000058a12d5b43e67d225668fa1f8d618c13dc232df0ca...  663713001.0   20     1   \n",
       "1  000058a12d5b43e67d225668fa1f8d618c13dc232df0ca...  541518023.0    8     1   \n",
       "2  00007d2de826758b65a93dd24ce629ed66842531df6699...  505221004.0    5     1   \n",
       "3  00007d2de826758b65a93dd24ce629ed66842531df6699...  685687003.0    5     1   \n",
       "4  00007d2de826758b65a93dd24ce629ed66842531df6699...  685687004.0    5     1   \n",
       "5  00007d2de826758b65a93dd24ce629ed66842531df6699...  685687001.0    5     1   \n",
       "6  00007d2de826758b65a93dd24ce629ed66842531df6699...  505221001.0    6     1   \n",
       "7  00083cda041544b2fbb0e0d2905ad17da7cf1007526fb4...  688873012.0    8     1   \n",
       "8  00083cda041544b2fbb0e0d2905ad17da7cf1007526fb4...  501323011.0   11     1   \n",
       "9  00083cda041544b2fbb0e0d2905ad17da7cf1007526fb4...  598859003.0   11     1   \n",
       "\n",
       "   user_id  item_id  \n",
       "0        2    40179  \n",
       "1        2    10520  \n",
       "2        7     6387  \n",
       "3        7    46304  \n",
       "4        7    46305  \n",
       "5        7    46302  \n",
       "6        7     6386  \n",
       "7      198    47416  \n",
       "8      198     5944  \n",
       "9      198    22540  "
      ]
     },
     "execution_count": 56,
     "metadata": {},
     "output_type": "execute_result"
    }
   ],
   "source": [
    "pre1 = rfm\n",
    "pre1.head(10)"
   ]
  },
  {
   "cell_type": "code",
   "execution_count": 110,
   "metadata": {},
   "outputs": [
    {
     "name": "stderr",
     "output_type": "stream",
     "text": [
      "                                                                                \r"
     ]
    }
   ],
   "source": [
    "asdf = spark.read.csv('data/train.csv', inferSchema=True, header=True)\n",
    "unique_movies = asdf.select(\"article_id\").distinct()"
   ]
  },
  {
   "cell_type": "code",
   "execution_count": 111,
   "metadata": {},
   "outputs": [
    {
     "ename": "NameError",
     "evalue": "name 'col' is not defined",
     "output_type": "error",
     "traceback": [
      "\u001b[0;31m---------------------------------------------------------------------------\u001b[0m",
      "\u001b[0;31mNameError\u001b[0m                                 Traceback (most recent call last)",
      "\u001b[1;32m/Users/redstone/Desktop/vsc/jupyter/1year.ipynb Cell 49'\u001b[0m in \u001b[0;36m<cell line: 39>\u001b[0;34m()\u001b[0m\n\u001b[1;32m     <a href='vscode-notebook-cell:/Users/redstone/Desktop/vsc/jupyter/1year.ipynb#ch0000042?line=35'>36</a>\u001b[0m     \u001b[39mreturn\u001b[39;00m recommender\u001b[39m.\u001b[39mshow(n, truncate\u001b[39m=\u001b[39m\u001b[39mFalse\u001b[39;00m)\n\u001b[1;32m     <a href='vscode-notebook-cell:/Users/redstone/Desktop/vsc/jupyter/1year.ipynb#ch0000042?line=37'>38</a>\u001b[0m \u001b[39m# userid가 1817번인 유저가 볼만한 영화 상위 5개 추천해주기\u001b[39;00m\n\u001b[0;32m---> <a href='vscode-notebook-cell:/Users/redstone/Desktop/vsc/jupyter/1year.ipynb#ch0000042?line=38'>39</a>\u001b[0m top_movies(\u001b[39m31\u001b[39;49m, \u001b[39m5\u001b[39;49m)\n",
      "\u001b[1;32m/Users/redstone/Desktop/vsc/jupyter/1year.ipynb Cell 49'\u001b[0m in \u001b[0;36mtop_movies\u001b[0;34m(user_id, n)\u001b[0m\n\u001b[1;32m     <a href='vscode-notebook-cell:/Users/redstone/Desktop/vsc/jupyter/1year.ipynb#ch0000042?line=15'>16</a>\u001b[0m total_movies \u001b[39m=\u001b[39m a\u001b[39m.\u001b[39mjoin(b, a[\u001b[39m'\u001b[39m\u001b[39marticle_id\u001b[39m\u001b[39m'\u001b[39m] \u001b[39m==\u001b[39m b[\u001b[39m'\u001b[39m\u001b[39marticle_id\u001b[39m\u001b[39m'\u001b[39m],\n\u001b[1;32m     <a href='vscode-notebook-cell:/Users/redstone/Desktop/vsc/jupyter/1year.ipynb#ch0000042?line=16'>17</a>\u001b[0m                     how\u001b[39m=\u001b[39m\u001b[39m'\u001b[39m\u001b[39mleft\u001b[39m\u001b[39m'\u001b[39m)\n\u001b[1;32m     <a href='vscode-notebook-cell:/Users/redstone/Desktop/vsc/jupyter/1year.ipynb#ch0000042?line=18'>19</a>\u001b[0m \u001b[39m# b 데이터프레임의 title_new값이 결측치를 갖고 있는 행의 a.title_new를 뽑아냄으로써 user_id가 아직 못본 영화들 추출\u001b[39;00m\n\u001b[1;32m     <a href='vscode-notebook-cell:/Users/redstone/Desktop/vsc/jupyter/1year.ipynb#ch0000042?line=19'>20</a>\u001b[0m \u001b[39m# col('b.title_new') => b 데이터프레임의 title_new칼럼 의미(SQL처럼 가능!)\u001b[39;00m\n\u001b[1;32m     <a href='vscode-notebook-cell:/Users/redstone/Desktop/vsc/jupyter/1year.ipynb#ch0000042?line=20'>21</a>\u001b[0m remaining_movies \u001b[39m=\u001b[39m total_movies\\\n\u001b[0;32m---> <a href='vscode-notebook-cell:/Users/redstone/Desktop/vsc/jupyter/1year.ipynb#ch0000042?line=21'>22</a>\u001b[0m                 \u001b[39m.\u001b[39mwhere(col(\u001b[39m'\u001b[39m\u001b[39mb.article_id\u001b[39m\u001b[39m'\u001b[39m)\u001b[39m.\u001b[39misNull())\\\n\u001b[1;32m     <a href='vscode-notebook-cell:/Users/redstone/Desktop/vsc/jupyter/1year.ipynb#ch0000042?line=22'>23</a>\u001b[0m                 \u001b[39m.\u001b[39mselect(\u001b[39m'\u001b[39m\u001b[39ma.article_id\u001b[39m\u001b[39m'\u001b[39m)\u001b[39m.\u001b[39mdistinct()\n\u001b[1;32m     <a href='vscode-notebook-cell:/Users/redstone/Desktop/vsc/jupyter/1year.ipynb#ch0000042?line=23'>24</a>\u001b[0m \u001b[39m# remaining_movies 데이터프레임에 특정 user_id값을 동일하게 새로운 변수로 추가해주기\u001b[39;00m\n\u001b[1;32m     <a href='vscode-notebook-cell:/Users/redstone/Desktop/vsc/jupyter/1year.ipynb#ch0000042?line=24'>25</a>\u001b[0m remaining_movies \u001b[39m=\u001b[39m remaining_movies\u001b[39m.\u001b[39mwithColumn(\u001b[39m'\u001b[39m\u001b[39muser_id\u001b[39m\u001b[39m'\u001b[39m,\n\u001b[1;32m     <a href='vscode-notebook-cell:/Users/redstone/Desktop/vsc/jupyter/1year.ipynb#ch0000042?line=25'>26</a>\u001b[0m                                             lit(\u001b[39mint\u001b[39m(user_id)))\n",
      "\u001b[0;31mNameError\u001b[0m: name 'col' is not defined"
     ]
    }
   ],
   "source": [
    "def top_movies(user_id, n):\n",
    "    \"\"\"\n",
    "    특정 user_id가 좋아할 만한 n개의 영화 추천해주는 함수\n",
    "    \"\"\"\n",
    "    # unique_movies 데이터프레임을 'a'라는 데이터프레임으로 alias시키기\n",
    "    a = unique_movies.alias('a')\n",
    "\n",
    "    # 특정 user_id가 본 영화들만 담은 새로운 데이터프레임 생성\n",
    "    watched_movies = df.filter(df['user_id'] == user_id)\\\n",
    "                            .select('article_id')\n",
    "\n",
    "    # 특정 user_id가 본 영화들을 'b'라는 데이터프레임으로 alias시키기\n",
    "    b = watched_movies.alias('b')\n",
    "\n",
    "    # unique_movies를 기준으로 watched_movies를 조인시켜서 user_id가 보지 못한 영화들 파악 가능\n",
    "    total_movies = a.join(b, a['article_id'] == b['article_id'],\n",
    "                        how='left')\n",
    "\n",
    "    # b 데이터프레임의 title_new값이 결측치를 갖고 있는 행의 a.title_new를 뽑아냄으로써 user_id가 아직 못본 영화들 추출\n",
    "    # col('b.title_new') => b 데이터프레임의 title_new칼럼 의미(SQL처럼 가능!)\n",
    "    remaining_movies = total_movies\\\n",
    "                    .where(col('b.article_id').isNull())\\\n",
    "                    .select('a.article_id').distinct()\n",
    "    # remaining_movies 데이터프레임에 특정 user_id값을 동일하게 새로운 변수로 추가해주기\n",
    "    remaining_movies = remaining_movies.withColumn('user_id',\n",
    "                                                lit(int(user_id)))\n",
    "    # 위에서 만든 ALS 모델을 사용하여 추천 평점 예측 후 n개 만큼 view -> \n",
    "    recommender = rec_model.transform(remaining_movies)\\\n",
    "                        .orderBy('prediction', ascending=False)\\\n",
    "                        .limit(n)\n",
    "\n",
    "    # pre = recommender.toPandas()\n",
    "    # pre1 = rfm.merge(pre, on=['user_id', 'article_id'], how='right')\n",
    "    # pre1 = rfm.merge(pre)\n",
    "    # return pre\n",
    "    return recommender.show(n, truncate=False)\n",
    "\n",
    "# userid가 1817번인 유저가 볼만한 영화 상위 5개 추천해주기\n",
    "top_movies(31, 5)\n",
    "\n",
    "# StringIndexer로 만든 것을 역으로 바꾸기 위해 IndexToString사용(영화제목을 숫자->한글제목)\n",
    "    # movie_title = IndexToString(inputCol='article_new',\n",
    "    #                         outputCol='article_id',\n",
    "    #                         labels=model.labels) #여기서 model.labels는 StringIndexer에서 fit시켰을 때 생긴 레이블. 즉, 영화 제목들\n",
    "    # # transform해서 영화제목을 숫자->한글로 변환! => dataframe으로 반환\n",
    "    # final_recommendations = movie_title.transform(recommender)"
   ]
  },
  {
   "cell_type": "code",
   "execution_count": null,
   "metadata": {},
   "outputs": [],
   "source": []
  }
 ],
 "metadata": {
  "interpreter": {
   "hash": "b0fa6594d8f4cbf19f97940f81e996739fb7646882a419484c72d19e05852a7e"
  },
  "kernelspec": {
   "display_name": "Python 3.9.10 64-bit",
   "language": "python",
   "name": "python3"
  },
  "language_info": {
   "codemirror_mode": {
    "name": "ipython",
    "version": 3
   },
   "file_extension": ".py",
   "mimetype": "text/x-python",
   "name": "python",
   "nbconvert_exporter": "python",
   "pygments_lexer": "ipython3",
   "version": "3.9.12"
  },
  "orig_nbformat": 4
 },
 "nbformat": 4,
 "nbformat_minor": 2
}
