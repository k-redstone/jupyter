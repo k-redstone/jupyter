{
 "cells": [
  {
   "cell_type": "code",
   "execution_count": 30,
   "metadata": {},
   "outputs": [],
   "source": [
    "import numpy as np\n",
    "import pandas as pd\n",
    "from sklearn.model_selection import train_test_split\n",
    "from sklearn.metrics.pairwise import cosine_similarity\n",
    "from surprise.model_selection import train_test_split\n",
    "from surprise import BaselineOnly\n",
    "from surprise import Dataset\n",
    "from surprise import Reader\n",
    "from surprise.model_selection import cross_validate\n",
    "from surprise import NormalPredictor\n",
    "from surprise import SVD\n",
    "from surprise import accuracy\n"
   ]
  },
  {
   "cell_type": "code",
   "execution_count": 4,
   "metadata": {},
   "outputs": [],
   "source": [
    "df = pd.read_csv('data/df4.csv')"
   ]
  },
  {
   "cell_type": "code",
   "execution_count": 5,
   "metadata": {},
   "outputs": [
    {
     "data": {
      "text/html": [
       "<div>\n",
       "<style scoped>\n",
       "    .dataframe tbody tr th:only-of-type {\n",
       "        vertical-align: middle;\n",
       "    }\n",
       "\n",
       "    .dataframe tbody tr th {\n",
       "        vertical-align: top;\n",
       "    }\n",
       "\n",
       "    .dataframe thead th {\n",
       "        text-align: right;\n",
       "    }\n",
       "</style>\n",
       "<table border=\"1\" class=\"dataframe\">\n",
       "  <thead>\n",
       "    <tr style=\"text-align: right;\">\n",
       "      <th></th>\n",
       "      <th>customer_id</th>\n",
       "      <th>article_id</th>\n",
       "      <th>rfm</th>\n",
       "      <th>count</th>\n",
       "      <th>user_id</th>\n",
       "      <th>item_id</th>\n",
       "    </tr>\n",
       "  </thead>\n",
       "  <tbody>\n",
       "    <tr>\n",
       "      <th>0</th>\n",
       "      <td>000058a12d5b43e67d225668fa1f8d618c13dc232df0ca...</td>\n",
       "      <td>663713001.0</td>\n",
       "      <td>5.472143</td>\n",
       "      <td>1</td>\n",
       "      <td>2</td>\n",
       "      <td>40179</td>\n",
       "    </tr>\n",
       "    <tr>\n",
       "      <th>1</th>\n",
       "      <td>000058a12d5b43e67d225668fa1f8d618c13dc232df0ca...</td>\n",
       "      <td>541518023.0</td>\n",
       "      <td>3.484524</td>\n",
       "      <td>1</td>\n",
       "      <td>2</td>\n",
       "      <td>10520</td>\n",
       "    </tr>\n",
       "    <tr>\n",
       "      <th>2</th>\n",
       "      <td>00007d2de826758b65a93dd24ce629ed66842531df6699...</td>\n",
       "      <td>505221004.0</td>\n",
       "      <td>1.993809</td>\n",
       "      <td>1</td>\n",
       "      <td>7</td>\n",
       "      <td>6387</td>\n",
       "    </tr>\n",
       "    <tr>\n",
       "      <th>3</th>\n",
       "      <td>00007d2de826758b65a93dd24ce629ed66842531df6699...</td>\n",
       "      <td>685687003.0</td>\n",
       "      <td>1.993809</td>\n",
       "      <td>1</td>\n",
       "      <td>7</td>\n",
       "      <td>46304</td>\n",
       "    </tr>\n",
       "    <tr>\n",
       "      <th>4</th>\n",
       "      <td>00007d2de826758b65a93dd24ce629ed66842531df6699...</td>\n",
       "      <td>685687004.0</td>\n",
       "      <td>1.993809</td>\n",
       "      <td>1</td>\n",
       "      <td>7</td>\n",
       "      <td>46305</td>\n",
       "    </tr>\n",
       "  </tbody>\n",
       "</table>\n",
       "</div>"
      ],
      "text/plain": [
       "                                         customer_id   article_id       rfm  \\\n",
       "0  000058a12d5b43e67d225668fa1f8d618c13dc232df0ca...  663713001.0  5.472143   \n",
       "1  000058a12d5b43e67d225668fa1f8d618c13dc232df0ca...  541518023.0  3.484524   \n",
       "2  00007d2de826758b65a93dd24ce629ed66842531df6699...  505221004.0  1.993809   \n",
       "3  00007d2de826758b65a93dd24ce629ed66842531df6699...  685687003.0  1.993809   \n",
       "4  00007d2de826758b65a93dd24ce629ed66842531df6699...  685687004.0  1.993809   \n",
       "\n",
       "   count  user_id  item_id  \n",
       "0      1        2    40179  \n",
       "1      1        2    10520  \n",
       "2      1        7     6387  \n",
       "3      1        7    46304  \n",
       "4      1        7    46305  "
      ]
     },
     "execution_count": 5,
     "metadata": {},
     "output_type": "execute_result"
    }
   ],
   "source": [
    "df.head()"
   ]
  },
  {
   "cell_type": "code",
   "execution_count": 18,
   "metadata": {},
   "outputs": [
    {
     "data": {
      "text/html": [
       "<div>\n",
       "<style scoped>\n",
       "    .dataframe tbody tr th:only-of-type {\n",
       "        vertical-align: middle;\n",
       "    }\n",
       "\n",
       "    .dataframe tbody tr th {\n",
       "        vertical-align: top;\n",
       "    }\n",
       "\n",
       "    .dataframe thead th {\n",
       "        text-align: right;\n",
       "    }\n",
       "</style>\n",
       "<table border=\"1\" class=\"dataframe\">\n",
       "  <thead>\n",
       "    <tr style=\"text-align: right;\">\n",
       "      <th></th>\n",
       "      <th>rfm</th>\n",
       "      <th>user_id</th>\n",
       "      <th>item_id</th>\n",
       "    </tr>\n",
       "  </thead>\n",
       "  <tbody>\n",
       "    <tr>\n",
       "      <th>0</th>\n",
       "      <td>5.472143</td>\n",
       "      <td>2</td>\n",
       "      <td>40179</td>\n",
       "    </tr>\n",
       "    <tr>\n",
       "      <th>1</th>\n",
       "      <td>3.484524</td>\n",
       "      <td>2</td>\n",
       "      <td>10520</td>\n",
       "    </tr>\n",
       "    <tr>\n",
       "      <th>2</th>\n",
       "      <td>1.993809</td>\n",
       "      <td>7</td>\n",
       "      <td>6387</td>\n",
       "    </tr>\n",
       "    <tr>\n",
       "      <th>3</th>\n",
       "      <td>1.993809</td>\n",
       "      <td>7</td>\n",
       "      <td>46304</td>\n",
       "    </tr>\n",
       "    <tr>\n",
       "      <th>4</th>\n",
       "      <td>1.993809</td>\n",
       "      <td>7</td>\n",
       "      <td>46305</td>\n",
       "    </tr>\n",
       "    <tr>\n",
       "      <th>...</th>\n",
       "      <td>...</td>\n",
       "      <td>...</td>\n",
       "      <td>...</td>\n",
       "    </tr>\n",
       "    <tr>\n",
       "      <th>31788319</th>\n",
       "      <td>9.503095</td>\n",
       "      <td>1371691</td>\n",
       "      <td>104961</td>\n",
       "    </tr>\n",
       "    <tr>\n",
       "      <th>31788320</th>\n",
       "      <td>10.000000</td>\n",
       "      <td>1371691</td>\n",
       "      <td>100629</td>\n",
       "    </tr>\n",
       "    <tr>\n",
       "      <th>31788321</th>\n",
       "      <td>9.503095</td>\n",
       "      <td>1371721</td>\n",
       "      <td>104053</td>\n",
       "    </tr>\n",
       "    <tr>\n",
       "      <th>31788322</th>\n",
       "      <td>5.527857</td>\n",
       "      <td>1371747</td>\n",
       "      <td>88521</td>\n",
       "    </tr>\n",
       "    <tr>\n",
       "      <th>31788323</th>\n",
       "      <td>8.509286</td>\n",
       "      <td>1371960</td>\n",
       "      <td>101689</td>\n",
       "    </tr>\n",
       "  </tbody>\n",
       "</table>\n",
       "<p>31788324 rows × 3 columns</p>\n",
       "</div>"
      ],
      "text/plain": [
       "                rfm  user_id  item_id\n",
       "0          5.472143        2    40179\n",
       "1          3.484524        2    10520\n",
       "2          1.993809        7     6387\n",
       "3          1.993809        7    46304\n",
       "4          1.993809        7    46305\n",
       "...             ...      ...      ...\n",
       "31788319   9.503095  1371691   104961\n",
       "31788320  10.000000  1371691   100629\n",
       "31788321   9.503095  1371721   104053\n",
       "31788322   5.527857  1371747    88521\n",
       "31788323   8.509286  1371960   101689\n",
       "\n",
       "[31788324 rows x 3 columns]"
      ]
     },
     "execution_count": 18,
     "metadata": {},
     "output_type": "execute_result"
    }
   ],
   "source": [
    "rating = df.copy()\n",
    "rating.drop(['customer_id','article_id', 'count'], axis=1)"
   ]
  },
  {
   "cell_type": "code",
   "execution_count": 19,
   "metadata": {},
   "outputs": [],
   "source": [
    "rating = rating[['user_id', 'item_id', 'rfm']]\n",
    "rating = rating.rename(columns={'user_id':'user','item_id':'item', 'rfm':'rating'})"
   ]
  },
  {
   "cell_type": "code",
   "execution_count": 20,
   "metadata": {},
   "outputs": [
    {
     "data": {
      "text/html": [
       "<div>\n",
       "<style scoped>\n",
       "    .dataframe tbody tr th:only-of-type {\n",
       "        vertical-align: middle;\n",
       "    }\n",
       "\n",
       "    .dataframe tbody tr th {\n",
       "        vertical-align: top;\n",
       "    }\n",
       "\n",
       "    .dataframe thead th {\n",
       "        text-align: right;\n",
       "    }\n",
       "</style>\n",
       "<table border=\"1\" class=\"dataframe\">\n",
       "  <thead>\n",
       "    <tr style=\"text-align: right;\">\n",
       "      <th></th>\n",
       "      <th>user</th>\n",
       "      <th>item</th>\n",
       "      <th>rating</th>\n",
       "    </tr>\n",
       "  </thead>\n",
       "  <tbody>\n",
       "    <tr>\n",
       "      <th>0</th>\n",
       "      <td>2</td>\n",
       "      <td>40179</td>\n",
       "      <td>5.472143</td>\n",
       "    </tr>\n",
       "    <tr>\n",
       "      <th>1</th>\n",
       "      <td>2</td>\n",
       "      <td>10520</td>\n",
       "      <td>3.484524</td>\n",
       "    </tr>\n",
       "    <tr>\n",
       "      <th>2</th>\n",
       "      <td>7</td>\n",
       "      <td>6387</td>\n",
       "      <td>1.993809</td>\n",
       "    </tr>\n",
       "    <tr>\n",
       "      <th>3</th>\n",
       "      <td>7</td>\n",
       "      <td>46304</td>\n",
       "      <td>1.993809</td>\n",
       "    </tr>\n",
       "    <tr>\n",
       "      <th>4</th>\n",
       "      <td>7</td>\n",
       "      <td>46305</td>\n",
       "      <td>1.993809</td>\n",
       "    </tr>\n",
       "  </tbody>\n",
       "</table>\n",
       "</div>"
      ],
      "text/plain": [
       "   user   item    rating\n",
       "0     2  40179  5.472143\n",
       "1     2  10520  3.484524\n",
       "2     7   6387  1.993809\n",
       "3     7  46304  1.993809\n",
       "4     7  46305  1.993809"
      ]
     },
     "execution_count": 20,
     "metadata": {},
     "output_type": "execute_result"
    }
   ],
   "source": [
    "rating.head()"
   ]
  },
  {
   "cell_type": "code",
   "execution_count": 28,
   "metadata": {},
   "outputs": [],
   "source": [
    "# A reader is still needed but only the rating_scale param is requiered.\n",
    "reader = Reader(rating_scale=(1, 5))\n",
    "\n",
    "# The columns must correspond to user id, item id and ratings (in that order).\n",
    "data = Dataset.load_from_df(rating[['user', 'item', 'rating']], reader)\n",
    "\n",
    "# # We can now use this dataset as we please, e.g. calling cross_validate\n",
    "# cross_validate(NormalPredictor(), data, cv=2)"
   ]
  },
  {
   "cell_type": "code",
   "execution_count": 29,
   "metadata": {},
   "outputs": [],
   "source": [
    "train, test = train_test_split(data, test_size=0.25, random_state=42)"
   ]
  },
  {
   "cell_type": "code",
   "execution_count": 31,
   "metadata": {},
   "outputs": [
    {
     "data": {
      "text/plain": [
       "<surprise.prediction_algorithms.matrix_factorization.SVD at 0x29fe6c7f0>"
      ]
     },
     "execution_count": 31,
     "metadata": {},
     "output_type": "execute_result"
    }
   ],
   "source": [
    "algo = SVD()\n",
    "algo.fit(train)"
   ]
  },
  {
   "cell_type": "code",
   "execution_count": 32,
   "metadata": {},
   "outputs": [
    {
     "ename": "KeyboardInterrupt",
     "evalue": "",
     "output_type": "error",
     "traceback": [
      "\u001b[0;31m---------------------------------------------------------------------------\u001b[0m",
      "\u001b[0;31mKeyboardInterrupt\u001b[0m                         Traceback (most recent call last)",
      "    \u001b[0;31m[... skipping hidden 1 frame]\u001b[0m\n",
      "\u001b[1;32m/Users/redstone/Desktop/vsc/jupyter/mf.ipynb Cell 1'\u001b[0m in \u001b[0;36m<cell line: 1>\u001b[0;34m()\u001b[0m\n\u001b[0;32m----> <a href='vscode-notebook-cell:/Users/redstone/Desktop/vsc/jupyter/mf.ipynb#ch0000000?line=0'>1</a>\u001b[0m prediction \u001b[39m=\u001b[39m algo\u001b[39m.\u001b[39;49mtest(test)\n\u001b[1;32m      <a href='vscode-notebook-cell:/Users/redstone/Desktop/vsc/jupyter/mf.ipynb#ch0000000?line=1'>2</a>\u001b[0m \u001b[39mprint\u001b[39m (\u001b[39m'\u001b[39m\u001b[39mprediction type:\u001b[39m\u001b[39m'\u001b[39m, \u001b[39mtype\u001b[39m(prediction),\u001b[39m'\u001b[39m\u001b[39msize: \u001b[39m\u001b[39m'\u001b[39m, \u001b[39mlen\u001b[39m(prediction))\n",
      "File \u001b[0;32m/opt/homebrew/lib/python3.9/site-packages/surprise/prediction_algorithms/algo_base.py:164\u001b[0m, in \u001b[0;36mAlgoBase.test\u001b[0;34m(self, testset, verbose)\u001b[0m\n\u001b[1;32m    <a href='file:///opt/homebrew/lib/python3.9/site-packages/surprise/prediction_algorithms/algo_base.py?line=162'>163</a>\u001b[0m \u001b[39m# The ratings are translated back to their original scale.\u001b[39;00m\n\u001b[0;32m--> <a href='file:///opt/homebrew/lib/python3.9/site-packages/surprise/prediction_algorithms/algo_base.py?line=163'>164</a>\u001b[0m predictions \u001b[39m=\u001b[39m [\u001b[39mself\u001b[39m\u001b[39m.\u001b[39mpredict(uid,\n\u001b[1;32m    <a href='file:///opt/homebrew/lib/python3.9/site-packages/surprise/prediction_algorithms/algo_base.py?line=164'>165</a>\u001b[0m                             iid,\n\u001b[1;32m    <a href='file:///opt/homebrew/lib/python3.9/site-packages/surprise/prediction_algorithms/algo_base.py?line=165'>166</a>\u001b[0m                             r_ui_trans,\n\u001b[1;32m    <a href='file:///opt/homebrew/lib/python3.9/site-packages/surprise/prediction_algorithms/algo_base.py?line=166'>167</a>\u001b[0m                             verbose\u001b[39m=\u001b[39mverbose)\n\u001b[1;32m    <a href='file:///opt/homebrew/lib/python3.9/site-packages/surprise/prediction_algorithms/algo_base.py?line=167'>168</a>\u001b[0m                \u001b[39mfor\u001b[39;00m (uid, iid, r_ui_trans) \u001b[39min\u001b[39;00m testset]\n\u001b[1;32m    <a href='file:///opt/homebrew/lib/python3.9/site-packages/surprise/prediction_algorithms/algo_base.py?line=168'>169</a>\u001b[0m \u001b[39mreturn\u001b[39;00m predictions\n",
      "File \u001b[0;32m/opt/homebrew/lib/python3.9/site-packages/surprise/prediction_algorithms/algo_base.py:164\u001b[0m, in \u001b[0;36m<listcomp>\u001b[0;34m(.0)\u001b[0m\n\u001b[1;32m    <a href='file:///opt/homebrew/lib/python3.9/site-packages/surprise/prediction_algorithms/algo_base.py?line=162'>163</a>\u001b[0m \u001b[39m# The ratings are translated back to their original scale.\u001b[39;00m\n\u001b[0;32m--> <a href='file:///opt/homebrew/lib/python3.9/site-packages/surprise/prediction_algorithms/algo_base.py?line=163'>164</a>\u001b[0m predictions \u001b[39m=\u001b[39m [\u001b[39mself\u001b[39;49m\u001b[39m.\u001b[39;49mpredict(uid,\n\u001b[1;32m    <a href='file:///opt/homebrew/lib/python3.9/site-packages/surprise/prediction_algorithms/algo_base.py?line=164'>165</a>\u001b[0m                             iid,\n\u001b[1;32m    <a href='file:///opt/homebrew/lib/python3.9/site-packages/surprise/prediction_algorithms/algo_base.py?line=165'>166</a>\u001b[0m                             r_ui_trans,\n\u001b[1;32m    <a href='file:///opt/homebrew/lib/python3.9/site-packages/surprise/prediction_algorithms/algo_base.py?line=166'>167</a>\u001b[0m                             verbose\u001b[39m=\u001b[39;49mverbose)\n\u001b[1;32m    <a href='file:///opt/homebrew/lib/python3.9/site-packages/surprise/prediction_algorithms/algo_base.py?line=167'>168</a>\u001b[0m                \u001b[39mfor\u001b[39;00m (uid, iid, r_ui_trans) \u001b[39min\u001b[39;00m testset]\n\u001b[1;32m    <a href='file:///opt/homebrew/lib/python3.9/site-packages/surprise/prediction_algorithms/algo_base.py?line=168'>169</a>\u001b[0m \u001b[39mreturn\u001b[39;00m predictions\n",
      "File \u001b[0;32m/opt/homebrew/lib/python3.9/site-packages/surprise/prediction_algorithms/algo_base.py:106\u001b[0m, in \u001b[0;36mAlgoBase.predict\u001b[0;34m(self, uid, iid, r_ui, clip, verbose)\u001b[0m\n\u001b[1;32m    <a href='file:///opt/homebrew/lib/python3.9/site-packages/surprise/prediction_algorithms/algo_base.py?line=104'>105</a>\u001b[0m \u001b[39mtry\u001b[39;00m:\n\u001b[0;32m--> <a href='file:///opt/homebrew/lib/python3.9/site-packages/surprise/prediction_algorithms/algo_base.py?line=105'>106</a>\u001b[0m     est \u001b[39m=\u001b[39m \u001b[39mself\u001b[39;49m\u001b[39m.\u001b[39;49mestimate(iuid, iiid)\n\u001b[1;32m    <a href='file:///opt/homebrew/lib/python3.9/site-packages/surprise/prediction_algorithms/algo_base.py?line=107'>108</a>\u001b[0m     \u001b[39m# If the details dict was also returned\u001b[39;00m\n",
      "File \u001b[0;32m/opt/homebrew/lib/python3.9/site-packages/surprise/prediction_algorithms/matrix_factorization.pyx:259\u001b[0m, in \u001b[0;36msurprise.prediction_algorithms.matrix_factorization.SVD.estimate\u001b[0;34m()\u001b[0m\n",
      "File \u001b[0;32m/opt/homebrew/lib/python3.9/site-packages/surprise/trainset.py:61\u001b[0m, in \u001b[0;36mTrainset.knows_user\u001b[0;34m(self, uid)\u001b[0m\n\u001b[1;32m     <a href='file:///opt/homebrew/lib/python3.9/site-packages/surprise/trainset.py?line=58'>59</a>\u001b[0m     \u001b[39mself\u001b[39m\u001b[39m.\u001b[39m_inner2raw_id_items \u001b[39m=\u001b[39m \u001b[39mNone\u001b[39;00m\n\u001b[0;32m---> <a href='file:///opt/homebrew/lib/python3.9/site-packages/surprise/trainset.py?line=60'>61</a>\u001b[0m \u001b[39mdef\u001b[39;00m \u001b[39mknows_user\u001b[39m(\u001b[39mself\u001b[39m, uid):\n\u001b[1;32m     <a href='file:///opt/homebrew/lib/python3.9/site-packages/surprise/trainset.py?line=61'>62</a>\u001b[0m     \u001b[39m\"\"\"Indicate if the user is part of the trainset.\u001b[39;00m\n\u001b[1;32m     <a href='file:///opt/homebrew/lib/python3.9/site-packages/surprise/trainset.py?line=62'>63</a>\u001b[0m \n\u001b[1;32m     <a href='file:///opt/homebrew/lib/python3.9/site-packages/surprise/trainset.py?line=63'>64</a>\u001b[0m \u001b[39m    A user is part of the trainset if the user has at least one rating.\u001b[39;00m\n\u001b[0;32m   (...)\u001b[0m\n\u001b[1;32m     <a href='file:///opt/homebrew/lib/python3.9/site-packages/surprise/trainset.py?line=69'>70</a>\u001b[0m \u001b[39m        ``True`` if user is part of the trainset, else ``False``.\u001b[39;00m\n\u001b[1;32m     <a href='file:///opt/homebrew/lib/python3.9/site-packages/surprise/trainset.py?line=70'>71</a>\u001b[0m \u001b[39m    \"\"\"\u001b[39;00m\n",
      "\u001b[0;31mKeyboardInterrupt\u001b[0m: ",
      "\nDuring handling of the above exception, another exception occurred:\n",
      "\u001b[0;31mKeyboardInterrupt\u001b[0m                         Traceback (most recent call last)",
      "\u001b[0;31mKeyboardInterrupt\u001b[0m: "
     ]
    }
   ],
   "source": [
    "prediction = algo.test(test)\n",
    "print ('prediction type:', type(prediction),'size: ', len(prediction))\n",
    "print()\n",
    "print('prediction 결과값 5개 보기')\n",
    "print(prediction[:5])"
   ]
  },
  {
   "cell_type": "code",
   "execution_count": 33,
   "metadata": {},
   "outputs": [
    {
     "name": "stdout",
     "output_type": "stream",
     "text": [
      "RMSE: 1.9515\n"
     ]
    },
    {
     "data": {
      "text/plain": [
       "1.9514948087155495"
      ]
     },
     "execution_count": 33,
     "metadata": {},
     "output_type": "execute_result"
    }
   ],
   "source": [
    "prediction = algo.test(test)\n",
    "accuracy.rmse(prediction)"
   ]
  },
  {
   "cell_type": "code",
   "execution_count": null,
   "metadata": {},
   "outputs": [],
   "source": []
  }
 ],
 "metadata": {
  "interpreter": {
   "hash": "b0fa6594d8f4cbf19f97940f81e996739fb7646882a419484c72d19e05852a7e"
  },
  "kernelspec": {
   "display_name": "Python 3.9.10 64-bit",
   "language": "python",
   "name": "python3"
  },
  "language_info": {
   "codemirror_mode": {
    "name": "ipython",
    "version": 3
   },
   "file_extension": ".py",
   "mimetype": "text/x-python",
   "name": "python",
   "nbconvert_exporter": "python",
   "pygments_lexer": "ipython3",
   "version": "3.9.10"
  },
  "orig_nbformat": 4
 },
 "nbformat": 4,
 "nbformat_minor": 2
}
